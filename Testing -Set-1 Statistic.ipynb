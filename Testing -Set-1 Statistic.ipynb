{
 "cells": [
  {
   "cell_type": "markdown",
   "id": "f9a14e54",
   "metadata": {},
   "source": [
    "# A/B Testing on the E-Commerce Data"
   ]
  },
  {
   "cell_type": "markdown",
   "id": "72eb7c9f",
   "metadata": {},
   "source": [
    "# Introduction\n",
    "\n",
    "In this project, I'll be analysing the results from an A/B test for a company's e-commerce website, working to understand those results, and proffer helpful suggestions. The company has developed a new web page in order to try and increase the number of users who \"convert\" (i.e. the number of users who decide to pay for the company's product). The goal here is to help the company decide whether to implement the new page, keep the old page, or perhaps run the experiment longer before making a decision."
   ]
  },
  {
   "cell_type": "code",
   "execution_count": 1,
   "id": "0ef2837c",
   "metadata": {},
   "outputs": [],
   "source": [
    "import pandas as pd\n",
    "import numpy as np\n",
    "import random as rd\n",
    "import matplotlib.pyplot as plt\n",
    "%matplotlib inline"
   ]
  },
  {
   "cell_type": "code",
   "execution_count": 2,
   "id": "f17ee88c",
   "metadata": {},
   "outputs": [],
   "source": [
    "df = pd.read_csv(\"ab_data1.csv\")"
   ]
  },
  {
   "cell_type": "code",
   "execution_count": 3,
   "id": "09960b85",
   "metadata": {},
   "outputs": [
    {
     "data": {
      "text/html": [
       "<div>\n",
       "<style scoped>\n",
       "    .dataframe tbody tr th:only-of-type {\n",
       "        vertical-align: middle;\n",
       "    }\n",
       "\n",
       "    .dataframe tbody tr th {\n",
       "        vertical-align: top;\n",
       "    }\n",
       "\n",
       "    .dataframe thead th {\n",
       "        text-align: right;\n",
       "    }\n",
       "</style>\n",
       "<table border=\"1\" class=\"dataframe\">\n",
       "  <thead>\n",
       "    <tr style=\"text-align: right;\">\n",
       "      <th></th>\n",
       "      <th>user_id</th>\n",
       "      <th>timestamp</th>\n",
       "      <th>group</th>\n",
       "      <th>landing_page</th>\n",
       "      <th>converted</th>\n",
       "    </tr>\n",
       "  </thead>\n",
       "  <tbody>\n",
       "    <tr>\n",
       "      <th>0</th>\n",
       "      <td>851104</td>\n",
       "      <td>2017-01-21 22:11:48.556739</td>\n",
       "      <td>control</td>\n",
       "      <td>old_page</td>\n",
       "      <td>0</td>\n",
       "    </tr>\n",
       "    <tr>\n",
       "      <th>1</th>\n",
       "      <td>804228</td>\n",
       "      <td>2017-01-12 08:01:45.159739</td>\n",
       "      <td>control</td>\n",
       "      <td>old_page</td>\n",
       "      <td>0</td>\n",
       "    </tr>\n",
       "    <tr>\n",
       "      <th>2</th>\n",
       "      <td>661590</td>\n",
       "      <td>2017-01-11 16:55:06.154213</td>\n",
       "      <td>treatment</td>\n",
       "      <td>new_page</td>\n",
       "      <td>0</td>\n",
       "    </tr>\n",
       "    <tr>\n",
       "      <th>3</th>\n",
       "      <td>853541</td>\n",
       "      <td>2017-01-08 18:28:03.143765</td>\n",
       "      <td>treatment</td>\n",
       "      <td>new_page</td>\n",
       "      <td>0</td>\n",
       "    </tr>\n",
       "    <tr>\n",
       "      <th>4</th>\n",
       "      <td>864975</td>\n",
       "      <td>2017-01-21 01:52:26.210827</td>\n",
       "      <td>control</td>\n",
       "      <td>old_page</td>\n",
       "      <td>1</td>\n",
       "    </tr>\n",
       "  </tbody>\n",
       "</table>\n",
       "</div>"
      ],
      "text/plain": [
       "   user_id                   timestamp      group landing_page  converted\n",
       "0   851104  2017-01-21 22:11:48.556739    control     old_page          0\n",
       "1   804228  2017-01-12 08:01:45.159739    control     old_page          0\n",
       "2   661590  2017-01-11 16:55:06.154213  treatment     new_page          0\n",
       "3   853541  2017-01-08 18:28:03.143765  treatment     new_page          0\n",
       "4   864975  2017-01-21 01:52:26.210827    control     old_page          1"
      ]
     },
     "execution_count": 3,
     "metadata": {},
     "output_type": "execute_result"
    }
   ],
   "source": [
    "df.head()"
   ]
  },
  {
   "cell_type": "code",
   "execution_count": 4,
   "id": "d4e01b13",
   "metadata": {},
   "outputs": [],
   "source": [
    "# Checking the data type and the missing value"
   ]
  },
  {
   "cell_type": "code",
   "execution_count": 5,
   "id": "83de6f4b",
   "metadata": {},
   "outputs": [
    {
     "name": "stdout",
     "output_type": "stream",
     "text": [
      "<class 'pandas.core.frame.DataFrame'>\n",
      "RangeIndex: 294478 entries, 0 to 294477\n",
      "Data columns (total 5 columns):\n",
      " #   Column        Non-Null Count   Dtype \n",
      "---  ------        --------------   ----- \n",
      " 0   user_id       294478 non-null  int64 \n",
      " 1   timestamp     294478 non-null  object\n",
      " 2   group         294478 non-null  object\n",
      " 3   landing_page  294478 non-null  object\n",
      " 4   converted     294478 non-null  int64 \n",
      "dtypes: int64(2), object(3)\n",
      "memory usage: 11.2+ MB\n"
     ]
    }
   ],
   "source": [
    "df.info()"
   ]
  },
  {
   "cell_type": "code",
   "execution_count": 6,
   "id": "398aaee6",
   "metadata": {},
   "outputs": [
    {
     "data": {
      "text/plain": [
       "user_id         0\n",
       "timestamp       0\n",
       "group           0\n",
       "landing_page    0\n",
       "converted       0\n",
       "dtype: int64"
      ]
     },
     "execution_count": 6,
     "metadata": {},
     "output_type": "execute_result"
    }
   ],
   "source": [
    "df.isnull().sum()"
   ]
  },
  {
   "cell_type": "code",
   "execution_count": 7,
   "id": "126d9777",
   "metadata": {},
   "outputs": [],
   "source": [
    "# Converting the timestamp to datetime"
   ]
  },
  {
   "cell_type": "code",
   "execution_count": 8,
   "id": "07ff9054",
   "metadata": {},
   "outputs": [],
   "source": [
    "df.timestamp = pd.to_datetime(df.timestamp)"
   ]
  },
  {
   "cell_type": "code",
   "execution_count": 9,
   "id": "021a09fb",
   "metadata": {},
   "outputs": [
    {
     "data": {
      "text/html": [
       "<div>\n",
       "<style scoped>\n",
       "    .dataframe tbody tr th:only-of-type {\n",
       "        vertical-align: middle;\n",
       "    }\n",
       "\n",
       "    .dataframe tbody tr th {\n",
       "        vertical-align: top;\n",
       "    }\n",
       "\n",
       "    .dataframe thead th {\n",
       "        text-align: right;\n",
       "    }\n",
       "</style>\n",
       "<table border=\"1\" class=\"dataframe\">\n",
       "  <thead>\n",
       "    <tr style=\"text-align: right;\">\n",
       "      <th></th>\n",
       "      <th>user_id</th>\n",
       "      <th>timestamp</th>\n",
       "      <th>group</th>\n",
       "      <th>landing_page</th>\n",
       "      <th>converted</th>\n",
       "    </tr>\n",
       "  </thead>\n",
       "  <tbody>\n",
       "    <tr>\n",
       "      <th>0</th>\n",
       "      <td>851104</td>\n",
       "      <td>2017-01-21 22:11:48.556739</td>\n",
       "      <td>control</td>\n",
       "      <td>old_page</td>\n",
       "      <td>0</td>\n",
       "    </tr>\n",
       "    <tr>\n",
       "      <th>1</th>\n",
       "      <td>804228</td>\n",
       "      <td>2017-01-12 08:01:45.159739</td>\n",
       "      <td>control</td>\n",
       "      <td>old_page</td>\n",
       "      <td>0</td>\n",
       "    </tr>\n",
       "    <tr>\n",
       "      <th>2</th>\n",
       "      <td>661590</td>\n",
       "      <td>2017-01-11 16:55:06.154213</td>\n",
       "      <td>treatment</td>\n",
       "      <td>new_page</td>\n",
       "      <td>0</td>\n",
       "    </tr>\n",
       "    <tr>\n",
       "      <th>3</th>\n",
       "      <td>853541</td>\n",
       "      <td>2017-01-08 18:28:03.143765</td>\n",
       "      <td>treatment</td>\n",
       "      <td>new_page</td>\n",
       "      <td>0</td>\n",
       "    </tr>\n",
       "    <tr>\n",
       "      <th>4</th>\n",
       "      <td>864975</td>\n",
       "      <td>2017-01-21 01:52:26.210827</td>\n",
       "      <td>control</td>\n",
       "      <td>old_page</td>\n",
       "      <td>1</td>\n",
       "    </tr>\n",
       "  </tbody>\n",
       "</table>\n",
       "</div>"
      ],
      "text/plain": [
       "   user_id                  timestamp      group landing_page  converted\n",
       "0   851104 2017-01-21 22:11:48.556739    control     old_page          0\n",
       "1   804228 2017-01-12 08:01:45.159739    control     old_page          0\n",
       "2   661590 2017-01-11 16:55:06.154213  treatment     new_page          0\n",
       "3   853541 2017-01-08 18:28:03.143765  treatment     new_page          0\n",
       "4   864975 2017-01-21 01:52:26.210827    control     old_page          1"
      ]
     },
     "execution_count": 9,
     "metadata": {},
     "output_type": "execute_result"
    }
   ],
   "source": [
    "df.head()"
   ]
  },
  {
   "cell_type": "code",
   "execution_count": 10,
   "id": "826e7b3c",
   "metadata": {},
   "outputs": [
    {
     "data": {
      "text/plain": [
       "user_id                  int64\n",
       "timestamp       datetime64[ns]\n",
       "group                   object\n",
       "landing_page            object\n",
       "converted                int64\n",
       "dtype: object"
      ]
     },
     "execution_count": 10,
     "metadata": {},
     "output_type": "execute_result"
    }
   ],
   "source": [
    "df.dtypes"
   ]
  },
  {
   "cell_type": "code",
   "execution_count": 11,
   "id": "719c0af8",
   "metadata": {},
   "outputs": [],
   "source": [
    "# Number of visit made by the website"
   ]
  },
  {
   "cell_type": "code",
   "execution_count": 12,
   "id": "e4751c53",
   "metadata": {},
   "outputs": [
    {
     "name": "stdout",
     "output_type": "stream",
     "text": [
      "The website was visited  294478 times.\n"
     ]
    }
   ],
   "source": [
    "print('The website was visited ', df.shape[0], 'times.')"
   ]
  },
  {
   "cell_type": "code",
   "execution_count": 13,
   "id": "6e39cbbe",
   "metadata": {},
   "outputs": [],
   "source": [
    "# Number of unique user in the dataset"
   ]
  },
  {
   "cell_type": "code",
   "execution_count": 14,
   "id": "dc2a9ceb",
   "metadata": {},
   "outputs": [
    {
     "name": "stdout",
     "output_type": "stream",
     "text": [
      "There are 290584 unique users\n"
     ]
    }
   ],
   "source": [
    "print('There are',df.user_id.nunique(),'unique users')"
   ]
  },
  {
   "cell_type": "code",
   "execution_count": 15,
   "id": "01cc6df9",
   "metadata": {},
   "outputs": [],
   "source": [
    "# For how long was the test conducted"
   ]
  },
  {
   "cell_type": "code",
   "execution_count": 16,
   "id": "195d87a1",
   "metadata": {},
   "outputs": [
    {
     "name": "stdout",
     "output_type": "stream",
     "text": [
      "The A/B test was conducted for 23 days.\n"
     ]
    }
   ],
   "source": [
    "print('The A/B test was conducted for', len(df.timestamp.dt.floor('d').value_counts()), 'days.')"
   ]
  },
  {
   "cell_type": "code",
   "execution_count": 18,
   "id": "aca11154",
   "metadata": {},
   "outputs": [],
   "source": [
    "# Checking the portion is converted"
   ]
  },
  {
   "cell_type": "code",
   "execution_count": 19,
   "id": "07aeb3c6",
   "metadata": {},
   "outputs": [
    {
     "data": {
      "text/plain": [
       "0.11965919355605512"
      ]
     },
     "execution_count": 19,
     "metadata": {},
     "output_type": "execute_result"
    }
   ],
   "source": [
    "df[df.converted==1].shape[0]/df.shape[0]"
   ]
  },
  {
   "cell_type": "code",
   "execution_count": 20,
   "id": "6e8c7eaf",
   "metadata": {},
   "outputs": [],
   "source": [
    "# Approxamately the 12% of the visits to the website is conversion"
   ]
  },
  {
   "cell_type": "markdown",
   "id": "54c24629",
   "metadata": {},
   "source": [
    "# Analysis of results\n",
    "\n",
    "Our A/B test is contigent on all members of the control group having viewed the old page, and those in the treatment group having viewed the new page. Hence, we must ensure that this is the case in our dataset, and get rid of any entries that do not satisfy this criterion for whatever reason (could be due to the mismatching of group members to their corresponding pages, or simply an error occurred during data gathering)."
   ]
  },
  {
   "cell_type": "code",
   "execution_count": 21,
   "id": "6834cd99",
   "metadata": {},
   "outputs": [],
   "source": [
    "#Checking the number of times the new_page and treatment don't line up.Hopefully it isn't the majority of the dataset"
   ]
  },
  {
   "cell_type": "code",
   "execution_count": 22,
   "id": "bd035a0f",
   "metadata": {},
   "outputs": [
    {
     "data": {
      "text/plain": [
       "3893"
      ]
     },
     "execution_count": 22,
     "metadata": {},
     "output_type": "execute_result"
    }
   ],
   "source": [
    "df[((df.group=='treatment')&(df.landing_page!='new_page'))|((df.group!='treatment')&(df.landing_page=='new_page'))].shape[0]"
   ]
  },
  {
   "cell_type": "code",
   "execution_count": 23,
   "id": "8bed4add",
   "metadata": {},
   "outputs": [],
   "source": [
    "# Not very compared to the total entries in the dataset"
   ]
  },
  {
   "cell_type": "markdown",
   "id": "aad5783d",
   "metadata": {},
   "source": [
    "Now, for the rows where treatment is not aigned with new page or control is not aligned with old page , we cannot be sure if this truly received the new or old page. So we drop all the rows that don't meet the specification . I assign the result to a new dataframe variable"
   ]
  },
  {
   "cell_type": "code",
   "execution_count": 24,
   "id": "9e1edd6c",
   "metadata": {},
   "outputs": [],
   "source": [
    "# Make sure of exclusive OR(XOR) to find the disalignment between the page and corresponding group\n",
    "\n",
    "df2 = df.drop(df[((df['group']=='treatment')^(df['landing_page'] == 'new_page'))].index , axis = 0)"
   ]
  },
  {
   "cell_type": "code",
   "execution_count": 26,
   "id": "be873dde",
   "metadata": {},
   "outputs": [
    {
     "data": {
      "text/plain": [
       "0"
      ]
     },
     "execution_count": 26,
     "metadata": {},
     "output_type": "execute_result"
    }
   ],
   "source": [
    "# Checking all the correct row is removed then it will return zero\n",
    "\n",
    "df2[((df2['group']=='treatment')==(df2['landing_page']=='new_page'))==False].shape[0]"
   ]
  },
  {
   "cell_type": "markdown",
   "id": "549a10db",
   "metadata": {},
   "source": [
    "Next , I want to ensure that the new dataset does not contain repeated entries for the user , in order to avoid misleading results\n",
    "\n",
    "Compare number of unique ids to total number of rows in df2"
   ]
  },
  {
   "cell_type": "code",
   "execution_count": 27,
   "id": "9ed2972f",
   "metadata": {},
   "outputs": [
    {
     "data": {
      "text/plain": [
       "290584"
      ]
     },
     "execution_count": 27,
     "metadata": {},
     "output_type": "execute_result"
    }
   ],
   "source": [
    "df2.user_id.nunique()"
   ]
  },
  {
   "cell_type": "code",
   "execution_count": 28,
   "id": "4af5b6a0",
   "metadata": {},
   "outputs": [
    {
     "data": {
      "text/plain": [
       "(290585,)"
      ]
     },
     "execution_count": 28,
     "metadata": {},
     "output_type": "execute_result"
    }
   ],
   "source": [
    "df2.user_id.shape"
   ]
  },
  {
   "cell_type": "code",
   "execution_count": 29,
   "id": "4a3c8212",
   "metadata": {},
   "outputs": [],
   "source": [
    "# Since it has one duplicate row"
   ]
  },
  {
   "cell_type": "code",
   "execution_count": 30,
   "id": "0fd9adda",
   "metadata": {},
   "outputs": [
    {
     "data": {
      "text/html": [
       "<div>\n",
       "<style scoped>\n",
       "    .dataframe tbody tr th:only-of-type {\n",
       "        vertical-align: middle;\n",
       "    }\n",
       "\n",
       "    .dataframe tbody tr th {\n",
       "        vertical-align: top;\n",
       "    }\n",
       "\n",
       "    .dataframe thead th {\n",
       "        text-align: right;\n",
       "    }\n",
       "</style>\n",
       "<table border=\"1\" class=\"dataframe\">\n",
       "  <thead>\n",
       "    <tr style=\"text-align: right;\">\n",
       "      <th></th>\n",
       "      <th>user_id</th>\n",
       "      <th>timestamp</th>\n",
       "      <th>group</th>\n",
       "      <th>landing_page</th>\n",
       "      <th>converted</th>\n",
       "    </tr>\n",
       "  </thead>\n",
       "  <tbody>\n",
       "    <tr>\n",
       "      <th>1899</th>\n",
       "      <td>773192</td>\n",
       "      <td>2017-01-09 05:37:58.781806</td>\n",
       "      <td>treatment</td>\n",
       "      <td>new_page</td>\n",
       "      <td>0</td>\n",
       "    </tr>\n",
       "    <tr>\n",
       "      <th>2893</th>\n",
       "      <td>773192</td>\n",
       "      <td>2017-01-14 02:55:59.590927</td>\n",
       "      <td>treatment</td>\n",
       "      <td>new_page</td>\n",
       "      <td>0</td>\n",
       "    </tr>\n",
       "  </tbody>\n",
       "</table>\n",
       "</div>"
      ],
      "text/plain": [
       "      user_id                  timestamp      group landing_page  converted\n",
       "1899   773192 2017-01-09 05:37:58.781806  treatment     new_page          0\n",
       "2893   773192 2017-01-14 02:55:59.590927  treatment     new_page          0"
      ]
     },
     "execution_count": 30,
     "metadata": {},
     "output_type": "execute_result"
    }
   ],
   "source": [
    "df2[df2.user_id.duplicated(keep=False)]"
   ]
  },
  {
   "cell_type": "code",
   "execution_count": 31,
   "id": "8ab4fa7b",
   "metadata": {},
   "outputs": [],
   "source": [
    "df2.drop([1899],inplace = True)"
   ]
  },
  {
   "cell_type": "code",
   "execution_count": 32,
   "id": "80772ca3",
   "metadata": {},
   "outputs": [
    {
     "data": {
      "text/plain": [
       "(290584,)"
      ]
     },
     "execution_count": 32,
     "metadata": {},
     "output_type": "execute_result"
    }
   ],
   "source": [
    "df2.user_id.shape"
   ]
  },
  {
   "cell_type": "code",
   "execution_count": 33,
   "id": "36b5d687",
   "metadata": {},
   "outputs": [],
   "source": [
    "# Now it has no duplicate id"
   ]
  },
  {
   "cell_type": "code",
   "execution_count": 34,
   "id": "4007879c",
   "metadata": {},
   "outputs": [],
   "source": [
    "# I am goinng to find the probability of an individuals converting regardless of the page they received"
   ]
  },
  {
   "cell_type": "code",
   "execution_count": 35,
   "id": "2d9c19a4",
   "metadata": {},
   "outputs": [
    {
     "data": {
      "text/plain": [
       "34753"
      ]
     },
     "execution_count": 35,
     "metadata": {},
     "output_type": "execute_result"
    }
   ],
   "source": [
    "df2.converted.sum()"
   ]
  },
  {
   "cell_type": "code",
   "execution_count": 37,
   "id": "e35b8250",
   "metadata": {},
   "outputs": [
    {
     "data": {
      "text/plain": [
       "0.11959708724499628"
      ]
     },
     "execution_count": 37,
     "metadata": {},
     "output_type": "execute_result"
    }
   ],
   "source": [
    "df2.converted.sum()/df2.shape[0]"
   ]
  },
  {
   "cell_type": "markdown",
   "id": "e3e7e483",
   "metadata": {},
   "source": [
    "This value is pretty close to the one we got from the previous unfiltered dataset : approcimately 12%\n",
    "\n",
    "Now I want to find the conversion rate of the probability of conversion , given that an individuals was in the control group , and also given that an individuals was in the treatment group"
   ]
  },
  {
   "cell_type": "code",
   "execution_count": 42,
   "id": "7064abc5",
   "metadata": {},
   "outputs": [
    {
     "data": {
      "text/plain": [
       "0.1203863045004612"
      ]
     },
     "execution_count": 42,
     "metadata": {},
     "output_type": "execute_result"
    }
   ],
   "source": [
    "# Control group conversion rate\n",
    "\n",
    "control = df2[df2.group=='control']\n",
    "p_control = control.converted.sum()/control.shape[0]\n",
    "p_control"
   ]
  },
  {
   "cell_type": "code",
   "execution_count": 43,
   "id": "c593525c",
   "metadata": {},
   "outputs": [
    {
     "data": {
      "text/plain": [
       "0.11880806551510564"
      ]
     },
     "execution_count": 43,
     "metadata": {},
     "output_type": "execute_result"
    }
   ],
   "source": [
    "# treatnment group conversion rate\n",
    "\n",
    "treat = df2[df2.group=='treatment']\n",
    "p_treat = treat.converted.sum()/treat.shape[0]\n",
    "p_treat"
   ]
  },
  {
   "cell_type": "markdown",
   "id": "bd9bcea0",
   "metadata": {},
   "source": [
    "We seem to getting the quite similar result in all the cases roughly 12%.\n",
    "\n",
    "Let see the probability of received the new page"
   ]
  },
  {
   "cell_type": "code",
   "execution_count": 45,
   "id": "cbd75a93",
   "metadata": {},
   "outputs": [
    {
     "data": {
      "text/plain": [
       "0.5000619442226688"
      ]
     },
     "execution_count": 45,
     "metadata": {},
     "output_type": "execute_result"
    }
   ],
   "source": [
    "(df2.landing_page=='new_page').sum()/df2.shape[0]"
   ]
  },
  {
   "cell_type": "markdown",
   "id": "e5cd9d99",
   "metadata": {},
   "source": [
    "As we would expect, an individual receives the new page half of the time, which might be why the conversion rates for both pages are quite similar.\n",
    "\n",
    "From the calculations of the values for p_treat(conversion rate for treatment group) and p_control((conversion rate for control group)) above, we see that the difference between the conversion rate for individuals who were shown the old page and those shown the new page (i.e. p_control - p_treat) is approximately 0.00 (since both values are about the same). Hence, there doesn't seem to be sufficient evidence to suggest that the new treatment page leads to more conversions. Instead, the conversion rate for the new page appears to be slightly smaller than that of the old page."
   ]
  },
  {
   "cell_type": "markdown",
   "id": "bef7efee",
   "metadata": {},
   "source": [
    "# A/B Test\n",
    "\n",
    "Now for the A/B test analysis!\n",
    "\n",
    "First, I'll set up my null and alternative hypotheses.\n",
    "\n",
    "Null: For the null, I want to assume that the old page performs better (i.e. it has a higher conversion rate) than the new page.\n",
    "\n",
    "Alternative: There is enough evidence to show that the old page performs worse, in which case I'll suggest the company opts for the new page.\n",
    "\n",
    "Ho:  pnew - pold ≤ 0\n",
    "\n",
    "H1:  pnew - pold > 0\n",
    "\n",
    "where $p{old}istheconversionratefortheoldpage,whilep{new}$ is the conversion rate for the new page\n",
    "\n",
    "From the hypothesis definitions above, the metric I am measuring is the difference between the conversion rates for the old and new pages.\n",
    "\n",
    "I assume, under the null hypothesis, that  pnew  and  pold  both have conversion rates equal to the overall conversion rate in the dataset (regardless of the page a user was shown). By consequence,  pnew  and  pold  are equal, and their difference is 0.\n",
    "\n",
    "Most probably, the data in the original dataset was gathered such that it is sufficiently random, and represents the population fairly well. Hence, I'll use the sample-sizes for both treatment and control groups in the sampling distribution simulation.\n",
    "\n",
    "Now, I'm going to simulate a sampling distribution for both the old and new pages, having conversion rates of  pold  and  pnew , and sample sizes of  nold  and  nnew  respectively. And then I'll take the difference between the conversion rates of these two distribution, to ensure they correspond to the null hypothesis (i.e. the difference is close to 0), in which case we can be more or less confident that the chosen sample sizes are adequate."
   ]
  },
  {
   "cell_type": "code",
   "execution_count": 49,
   "id": "9e9dde03",
   "metadata": {},
   "outputs": [
    {
     "name": "stdout",
     "output_type": "stream",
     "text": [
      "p_old:0.11959708724499628\n",
      "p_new:0.11959708724499628\n",
      "n_old:145274\n",
      "n_new:145310\n"
     ]
    }
   ],
   "source": [
    "# set conversion rates and sample size for both groups under the null\n",
    "\n",
    "p_old = df2.converted.mean()\n",
    "p_new = df2.converted.mean()\n",
    "n_old = df2[df2.landing_page==\"old_page\"].shape[0]\n",
    "n_new = df2[df2.landing_page==\"new_page\"].shape[0]\n",
    "print(f\"p_old:{p_old}\\np_new:{p_new}\\nn_old:{n_old}\\nn_new:{n_new}\")\n",
    "\n"
   ]
  },
  {
   "cell_type": "code",
   "execution_count": 52,
   "id": "aadde9eb",
   "metadata": {},
   "outputs": [
    {
     "data": {
      "text/plain": [
       "-0.0015092415330324321"
      ]
     },
     "execution_count": 52,
     "metadata": {},
     "output_type": "execute_result"
    }
   ],
   "source": [
    "# Simulation of the two binomial distribution and the difference in their conversion rates\n",
    "\n",
    "old_page_converted = np.random.binomial(1,p=p_old,size = n_old)\n",
    "new_page_converted = np.random.binomial(1,p = p_new , size = n_new)\n",
    "diffr = new_page_converted.mean()-old_page_converted.mean()\n",
    "diffr"
   ]
  },
  {
   "cell_type": "markdown",
   "id": "2bddfe95",
   "metadata": {},
   "source": [
    "From the difference value above(approximately 0.00). so it seem the sample size would do the trick\n",
    "\n",
    "Next , I'll be simulatting a sample distribution for the difference in conversion rate between the old and new page(just as was done above), but this time over 10,000 iteration , to be certion the above results aren't merely due the chance . I'll store this distribution in a numpy array. All previous parameter hold constant"
   ]
  },
  {
   "cell_type": "code",
   "execution_count": 54,
   "id": "b4fff78b",
   "metadata": {},
   "outputs": [
    {
     "data": {
      "text/plain": [
       "array([-0.00016034,  0.00262013, -0.0012341 , ...,  0.00098911,\n",
       "        0.00162901,  0.00061724])"
      ]
     },
     "execution_count": 54,
     "metadata": {},
     "output_type": "execute_result"
    }
   ],
   "source": [
    "# Simulate the difference between the conversion rate for new and old pages\n",
    "# make use of binomial distribution since that fits our scenario\n",
    "new_page_converted = np.random.binomial(n_new,p_new,10000)\n",
    "# return no. of successs from n_new trails, performed 10000 times\n",
    "old_page_converted = np.random.binomial(n_old,p_old,10000)\n",
    "# return no. of success from n_old trials , performed 10000 times\n",
    "p_diffs = new_page_converted/n_new - old_page_converted/n_old\n",
    "p_diffs = np.array(p_diffs)\n",
    "p_diffs"
   ]
  },
  {
   "cell_type": "code",
   "execution_count": 59,
   "id": "b8dee065",
   "metadata": {},
   "outputs": [
    {
     "data": {
      "text/plain": [
       "<AxesSubplot:ylabel='Count'>"
      ]
     },
     "execution_count": 59,
     "metadata": {},
     "output_type": "execute_result"
    },
    {
     "data": {
      "image/png": "[encoded data removed]",
      "text/plain": [
       "<Figure size 640x480 with 1 Axes>"
      ]
     },
     "metadata": {},
     "output_type": "display_data"
    }
   ],
   "source": [
    "import seaborn as sns\n",
    "sns.histplot(p_diffs)"
   ]
  },
  {
   "cell_type": "code",
   "execution_count": 60,
   "id": "f358f528",
   "metadata": {},
   "outputs": [],
   "source": [
    "# The plot show the sampling distribution of the differnece p_diffs , is normally distributed"
   ]
  },
  {
   "cell_type": "markdown",
   "id": "e7ad54b5",
   "metadata": {},
   "source": [
    "# P-value\n",
    "\n",
    "To get the p-value, I'll find the proportion of difference values in p_diffs that are equal to, or more extreme than (i.e. in favour of the alternative) the actual difference observed from the original data. This would mean differences which are greater than (in accordance with the null hypothesis) the observed difference.\n",
    "\n",
    "NB: The observed difference is the conversion rate for both the old and new pages as observed from the dat"
   ]
  },
  {
   "cell_type": "code",
   "execution_count": 62,
   "id": "3970bc74",
   "metadata": {},
   "outputs": [
    {
     "data": {
      "text/plain": [
       "0.9067"
      ]
     },
     "execution_count": 62,
     "metadata": {},
     "output_type": "execute_result"
    }
   ],
   "source": [
    "# get observed differnece first , then determinethe more extreme values in favour of the alternative\n",
    "\n",
    "obs_diff = (df2[df2.group=='treatment'].converted.mean())-(df2[df2.group=='control'].converted.mean())\n",
    "p_val = (p_diffs > obs_diff).mean()\n",
    "p_val"
   ]
  },
  {
   "cell_type": "markdown",
   "id": "720b6c27",
   "metadata": {},
   "source": [
    "Above, I've computed the probability of obtaining our observed statistic, obs_diff, or a more extreme value (in favour of the alternative hypothesis) based on the premise that the null hypothesis is true. This probability is the p-value for the sampling distribution of differences.\n",
    "\n",
    "Since this value is greater than the our designated significance level of alpha=0.05, then we may conclude that, based on the data, we do not have sufficient evidence in favour of the alternative hypothesis, hence, the result is not statistically significant and we do not reject the null hypothesis. In other words, the difference between the conversion rate for the old page and that of the new page is less than or equal to 0, or otherwise put: the conversion rate for the old page is either greater than or equal to that of the new page."
   ]
  },
  {
   "cell_type": "code",
   "execution_count": 63,
   "id": "62b86aa6",
   "metadata": {},
   "outputs": [],
   "source": [
    "import statsmodels.api as sm\n",
    "\n",
    "convert_old = df2[df2.landing_page=='old_page'].converted.sum()\n",
    "convert_new = df2[df2.landing_page=='new_page'].converted.sum()\n",
    "n_old = df2[df2.landing_page=='old_page'].shape[0]\n",
    "n_new = df2[df2.landing_page=='new_page'].shape[0]"
   ]
  },
  {
   "cell_type": "code",
   "execution_count": 64,
   "id": "dae365d6",
   "metadata": {},
   "outputs": [
    {
     "name": "stdout",
     "output_type": "stream",
     "text": [
      "z-score: 1.3109241984234394\n",
      "p-value: 0.9050583127590245\n"
     ]
    }
   ],
   "source": [
    "test_stat, p_value = sm.stats.proportions_ztest(np.array([convert_old, convert_new]), np.array([n_old, n_new]), alternative='smaller')\n",
    "print(f\"z-score: {test_stat}\\np-value: {p_value}\") # test_stat is the z-score for our p-value"
   ]
  },
  {
   "cell_type": "markdown",
   "id": "61bc34b1",
   "metadata": {},
   "source": [
    "The z-score and p-value obtained above imply that there is no statistical evidence to support the change in the webpage, since there is no increase in the conversion rate for the new page (i.e. both pages have similar conversion rates, or old is greater than new) according to the data.\n",
    "\n",
    "Indeed, these results are in agreement with the findings from the simulated distributions."
   ]
  },
  {
   "cell_type": "code",
   "execution_count": 65,
   "id": "62356edb",
   "metadata": {},
   "outputs": [
    {
     "data": {
      "text/html": [
       "<div>\n",
       "<style scoped>\n",
       "    .dataframe tbody tr th:only-of-type {\n",
       "        vertical-align: middle;\n",
       "    }\n",
       "\n",
       "    .dataframe tbody tr th {\n",
       "        vertical-align: top;\n",
       "    }\n",
       "\n",
       "    .dataframe thead th {\n",
       "        text-align: right;\n",
       "    }\n",
       "</style>\n",
       "<table border=\"1\" class=\"dataframe\">\n",
       "  <thead>\n",
       "    <tr style=\"text-align: right;\">\n",
       "      <th></th>\n",
       "      <th>user_id</th>\n",
       "      <th>timestamp</th>\n",
       "      <th>group</th>\n",
       "      <th>landing_page</th>\n",
       "      <th>converted</th>\n",
       "    </tr>\n",
       "  </thead>\n",
       "  <tbody>\n",
       "    <tr>\n",
       "      <th>0</th>\n",
       "      <td>851104</td>\n",
       "      <td>2017-01-21 22:11:48.556739</td>\n",
       "      <td>control</td>\n",
       "      <td>old_page</td>\n",
       "      <td>0</td>\n",
       "    </tr>\n",
       "    <tr>\n",
       "      <th>1</th>\n",
       "      <td>804228</td>\n",
       "      <td>2017-01-12 08:01:45.159739</td>\n",
       "      <td>control</td>\n",
       "      <td>old_page</td>\n",
       "      <td>0</td>\n",
       "    </tr>\n",
       "    <tr>\n",
       "      <th>2</th>\n",
       "      <td>661590</td>\n",
       "      <td>2017-01-11 16:55:06.154213</td>\n",
       "      <td>treatment</td>\n",
       "      <td>new_page</td>\n",
       "      <td>0</td>\n",
       "    </tr>\n",
       "    <tr>\n",
       "      <th>3</th>\n",
       "      <td>853541</td>\n",
       "      <td>2017-01-08 18:28:03.143765</td>\n",
       "      <td>treatment</td>\n",
       "      <td>new_page</td>\n",
       "      <td>0</td>\n",
       "    </tr>\n",
       "    <tr>\n",
       "      <th>4</th>\n",
       "      <td>864975</td>\n",
       "      <td>2017-01-21 01:52:26.210827</td>\n",
       "      <td>control</td>\n",
       "      <td>old_page</td>\n",
       "      <td>1</td>\n",
       "    </tr>\n",
       "  </tbody>\n",
       "</table>\n",
       "</div>"
      ],
      "text/plain": [
       "   user_id                  timestamp      group landing_page  converted\n",
       "0   851104 2017-01-21 22:11:48.556739    control     old_page          0\n",
       "1   804228 2017-01-12 08:01:45.159739    control     old_page          0\n",
       "2   661590 2017-01-11 16:55:06.154213  treatment     new_page          0\n",
       "3   853541 2017-01-08 18:28:03.143765  treatment     new_page          0\n",
       "4   864975 2017-01-21 01:52:26.210827    control     old_page          1"
      ]
     },
     "execution_count": 65,
     "metadata": {},
     "output_type": "execute_result"
    }
   ],
   "source": [
    "df2.head()"
   ]
  },
  {
   "cell_type": "markdown",
   "id": "611c95f7",
   "metadata": {},
   "source": [
    "A regression approach\n",
    "\n",
    "In this final part, I will be using regression in order to, hopefully, achieve similar results as in the previous methods.\n",
    "\n",
    "A logistic regression would be the appropriate kind of regression in this case, as it involves the determination of which category a given dataset falls into (i.e. conversion or no conversion).\n",
    "\n",
    "The goal here is to use statsmodels to fit a logistic regression model to see if there is a significant difference in conversion as a consequence of which page a customer receives.\n",
    "\n",
    "To use statsmodels, I'll first need to create a column for the intercept, and create a dummy variable column for which page each user received.\n",
    "\n",
    "In essence, I'll add an intercept column with all 1's, as well as an ab_page column, which is 1 when an individual receives the new page (treatment) and 0 if they recieved the the old page(control)."
   ]
  },
  {
   "cell_type": "code",
   "execution_count": 66,
   "id": "787f6ad8",
   "metadata": {},
   "outputs": [
    {
     "data": {
      "text/html": [
       "<div>\n",
       "<style scoped>\n",
       "    .dataframe tbody tr th:only-of-type {\n",
       "        vertical-align: middle;\n",
       "    }\n",
       "\n",
       "    .dataframe tbody tr th {\n",
       "        vertical-align: top;\n",
       "    }\n",
       "\n",
       "    .dataframe thead th {\n",
       "        text-align: right;\n",
       "    }\n",
       "</style>\n",
       "<table border=\"1\" class=\"dataframe\">\n",
       "  <thead>\n",
       "    <tr style=\"text-align: right;\">\n",
       "      <th></th>\n",
       "      <th>user_id</th>\n",
       "      <th>timestamp</th>\n",
       "      <th>group</th>\n",
       "      <th>landing_page</th>\n",
       "      <th>converted</th>\n",
       "      <th>intercept</th>\n",
       "      <th>ab_page</th>\n",
       "    </tr>\n",
       "  </thead>\n",
       "  <tbody>\n",
       "    <tr>\n",
       "      <th>0</th>\n",
       "      <td>851104</td>\n",
       "      <td>2017-01-21 22:11:48.556739</td>\n",
       "      <td>control</td>\n",
       "      <td>old_page</td>\n",
       "      <td>0</td>\n",
       "      <td>1</td>\n",
       "      <td>0</td>\n",
       "    </tr>\n",
       "    <tr>\n",
       "      <th>1</th>\n",
       "      <td>804228</td>\n",
       "      <td>2017-01-12 08:01:45.159739</td>\n",
       "      <td>control</td>\n",
       "      <td>old_page</td>\n",
       "      <td>0</td>\n",
       "      <td>1</td>\n",
       "      <td>0</td>\n",
       "    </tr>\n",
       "    <tr>\n",
       "      <th>2</th>\n",
       "      <td>661590</td>\n",
       "      <td>2017-01-11 16:55:06.154213</td>\n",
       "      <td>treatment</td>\n",
       "      <td>new_page</td>\n",
       "      <td>0</td>\n",
       "      <td>1</td>\n",
       "      <td>1</td>\n",
       "    </tr>\n",
       "    <tr>\n",
       "      <th>3</th>\n",
       "      <td>853541</td>\n",
       "      <td>2017-01-08 18:28:03.143765</td>\n",
       "      <td>treatment</td>\n",
       "      <td>new_page</td>\n",
       "      <td>0</td>\n",
       "      <td>1</td>\n",
       "      <td>1</td>\n",
       "    </tr>\n",
       "    <tr>\n",
       "      <th>4</th>\n",
       "      <td>864975</td>\n",
       "      <td>2017-01-21 01:52:26.210827</td>\n",
       "      <td>control</td>\n",
       "      <td>old_page</td>\n",
       "      <td>1</td>\n",
       "      <td>1</td>\n",
       "      <td>0</td>\n",
       "    </tr>\n",
       "  </tbody>\n",
       "</table>\n",
       "</div>"
      ],
      "text/plain": [
       "   user_id                  timestamp      group landing_page  converted  \\\n",
       "0   851104 2017-01-21 22:11:48.556739    control     old_page          0   \n",
       "1   804228 2017-01-12 08:01:45.159739    control     old_page          0   \n",
       "2   661590 2017-01-11 16:55:06.154213  treatment     new_page          0   \n",
       "3   853541 2017-01-08 18:28:03.143765  treatment     new_page          0   \n",
       "4   864975 2017-01-21 01:52:26.210827    control     old_page          1   \n",
       "\n",
       "   intercept  ab_page  \n",
       "0          1        0  \n",
       "1          1        0  \n",
       "2          1        1  \n",
       "3          1        1  \n",
       "4          1        0  "
      ]
     },
     "execution_count": 66,
     "metadata": {},
     "output_type": "execute_result"
    }
   ],
   "source": [
    "df2['intercept'] = 1\n",
    "df2['ab_page'] = pd.get_dummies(df2.group)['treatment']\n",
    "df2.head()"
   ]
  },
  {
   "cell_type": "code",
   "execution_count": 67,
   "id": "e890b906",
   "metadata": {},
   "outputs": [
    {
     "name": "stdout",
     "output_type": "stream",
     "text": [
      "Optimization terminated successfully.\n",
      "         Current function value: 0.366118\n",
      "         Iterations 6\n"
     ]
    }
   ],
   "source": [
    "log_mod_1 = sm.Logit(df2.converted, df2[['intercept', 'ab_page']])\n",
    "result_1 = log_mod_1.fit()"
   ]
  },
  {
   "cell_type": "code",
   "execution_count": 68,
   "id": "79b86833",
   "metadata": {},
   "outputs": [
    {
     "data": {
      "text/html": [
       "<table class=\"simpletable\">\n",
       "<caption>Logit Regression Results</caption>\n",
       "<tr>\n",
       "  <th>Dep. Variable:</th>       <td>converted</td>    <th>  No. Observations:  </th>   <td>290584</td>   \n",
       "</tr>\n",
       "<tr>\n",
       "  <th>Model:</th>                 <td>Logit</td>      <th>  Df Residuals:      </th>   <td>290582</td>   \n",
       "</tr>\n",
       "<tr>\n",
       "  <th>Method:</th>                 <td>MLE</td>       <th>  Df Model:          </th>   <td>     1</td>   \n",
       "</tr>\n",
       "<tr>\n",
       "  <th>Date:</th>            <td>Tue, 20 Dec 2022</td> <th>  Pseudo R-squ.:     </th>  <td>8.077e-06</td> \n",
       "</tr>\n",
       "<tr>\n",
       "  <th>Time:</th>                <td>23:20:43</td>     <th>  Log-Likelihood:    </th> <td>-1.0639e+05</td>\n",
       "</tr>\n",
       "<tr>\n",
       "  <th>converged:</th>             <td>True</td>       <th>  LL-Null:           </th> <td>-1.0639e+05</td>\n",
       "</tr>\n",
       "<tr>\n",
       "  <th>Covariance Type:</th>     <td>nonrobust</td>    <th>  LLR p-value:       </th>   <td>0.1899</td>   \n",
       "</tr>\n",
       "</table>\n",
       "<table class=\"simpletable\">\n",
       "<tr>\n",
       "      <td></td>         <th>coef</th>     <th>std err</th>      <th>z</th>      <th>P>|z|</th>  <th>[0.025</th>    <th>0.975]</th>  \n",
       "</tr>\n",
       "<tr>\n",
       "  <th>intercept</th> <td>   -1.9888</td> <td>    0.008</td> <td> -246.669</td> <td> 0.000</td> <td>   -2.005</td> <td>   -1.973</td>\n",
       "</tr>\n",
       "<tr>\n",
       "  <th>ab_page</th>   <td>   -0.0150</td> <td>    0.011</td> <td>   -1.311</td> <td> 0.190</td> <td>   -0.037</td> <td>    0.007</td>\n",
       "</tr>\n",
       "</table>"
      ],
      "text/plain": [
       "<class 'statsmodels.iolib.summary.Summary'>\n",
       "\"\"\"\n",
       "                           Logit Regression Results                           \n",
       "==============================================================================\n",
       "Dep. Variable:              converted   No. Observations:               290584\n",
       "Model:                          Logit   Df Residuals:                   290582\n",
       "Method:                           MLE   Df Model:                            1\n",
       "Date:                Tue, 20 Dec 2022   Pseudo R-squ.:               8.077e-06\n",
       "Time:                        23:20:43   Log-Likelihood:            -1.0639e+05\n",
       "converged:                       True   LL-Null:                   -1.0639e+05\n",
       "Covariance Type:            nonrobust   LLR p-value:                    0.1899\n",
       "==============================================================================\n",
       "                 coef    std err          z      P>|z|      [0.025      0.975]\n",
       "------------------------------------------------------------------------------\n",
       "intercept     -1.9888      0.008   -246.669      0.000      -2.005      -1.973\n",
       "ab_page       -0.0150      0.011     -1.311      0.190      -0.037       0.007\n",
       "==============================================================================\n",
       "\"\"\""
      ]
     },
     "execution_count": 68,
     "metadata": {},
     "output_type": "execute_result"
    }
   ],
   "source": [
    "result_1.summary()"
   ]
  },
  {
   "cell_type": "code",
   "execution_count": null,
   "id": "20ee36cc",
   "metadata": {},
   "outputs": [],
   "source": []
  }
 ],
 "metadata": {
  "kernelspec": {
   "display_name": "Python 3 (ipykernel)",
   "language": "python",
   "name": "python3"
  },
  "language_info": {
   "codemirror_mode": {
    "name": "ipython",
    "version": 3
   },
   "file_extension": ".py",
   "mimetype": "text/x-python",
   "name": "python",
   "nbconvert_exporter": "python",
   "pygments_lexer": "ipython3",
   "version": "3.9.13"
  }
 },
 "nbformat": 4,
 "nbformat_minor": 5
}
