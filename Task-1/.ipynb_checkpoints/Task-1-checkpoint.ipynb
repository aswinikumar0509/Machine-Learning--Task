{
 "cells": [
  {
   "cell_type": "code",
   "execution_count": 1,
   "id": "97102fe7",
   "metadata": {},
   "outputs": [],
   "source": [
    "import numpy as np\n",
    "import pandas as pd\n",
    "import matplotlib.pyplot as plt\n",
    "import seaborn as sns"
   ]
  },
  {
   "cell_type": "code",
   "execution_count": 2,
   "id": "24e49df6",
   "metadata": {},
   "outputs": [
    {
     "data": {
      "text/html": [
       "<div>\n",
       "<style scoped>\n",
       "    .dataframe tbody tr th:only-of-type {\n",
       "        vertical-align: middle;\n",
       "    }\n",
       "\n",
       "    .dataframe tbody tr th {\n",
       "        vertical-align: top;\n",
       "    }\n",
       "\n",
       "    .dataframe thead th {\n",
       "        text-align: right;\n",
       "    }\n",
       "</style>\n",
       "<table border=\"1\" class=\"dataframe\">\n",
       "  <thead>\n",
       "    <tr style=\"text-align: right;\">\n",
       "      <th></th>\n",
       "      <th>day</th>\n",
       "      <th>month</th>\n",
       "      <th>year</th>\n",
       "      <th>Temperature</th>\n",
       "      <th>RH</th>\n",
       "      <th>Ws</th>\n",
       "      <th>Rain</th>\n",
       "      <th>FFMC</th>\n",
       "      <th>DMC</th>\n",
       "      <th>DC</th>\n",
       "      <th>ISI</th>\n",
       "      <th>BUI</th>\n",
       "      <th>FWI</th>\n",
       "      <th>Classes</th>\n",
       "    </tr>\n",
       "  </thead>\n",
       "  <tbody>\n",
       "    <tr>\n",
       "      <th>0</th>\n",
       "      <td>01</td>\n",
       "      <td>06</td>\n",
       "      <td>2012</td>\n",
       "      <td>29</td>\n",
       "      <td>57</td>\n",
       "      <td>18</td>\n",
       "      <td>0</td>\n",
       "      <td>65.7</td>\n",
       "      <td>3.4</td>\n",
       "      <td>7.6</td>\n",
       "      <td>1.3</td>\n",
       "      <td>3.4</td>\n",
       "      <td>0.5</td>\n",
       "      <td>not fire</td>\n",
       "    </tr>\n",
       "    <tr>\n",
       "      <th>1</th>\n",
       "      <td>02</td>\n",
       "      <td>06</td>\n",
       "      <td>2012</td>\n",
       "      <td>29</td>\n",
       "      <td>61</td>\n",
       "      <td>13</td>\n",
       "      <td>1.3</td>\n",
       "      <td>64.4</td>\n",
       "      <td>4.1</td>\n",
       "      <td>7.6</td>\n",
       "      <td>1</td>\n",
       "      <td>3.9</td>\n",
       "      <td>0.4</td>\n",
       "      <td>not fire</td>\n",
       "    </tr>\n",
       "    <tr>\n",
       "      <th>2</th>\n",
       "      <td>03</td>\n",
       "      <td>06</td>\n",
       "      <td>2012</td>\n",
       "      <td>26</td>\n",
       "      <td>82</td>\n",
       "      <td>22</td>\n",
       "      <td>13.1</td>\n",
       "      <td>47.1</td>\n",
       "      <td>2.5</td>\n",
       "      <td>7.1</td>\n",
       "      <td>0.3</td>\n",
       "      <td>2.7</td>\n",
       "      <td>0.1</td>\n",
       "      <td>not fire</td>\n",
       "    </tr>\n",
       "    <tr>\n",
       "      <th>3</th>\n",
       "      <td>04</td>\n",
       "      <td>06</td>\n",
       "      <td>2012</td>\n",
       "      <td>25</td>\n",
       "      <td>89</td>\n",
       "      <td>13</td>\n",
       "      <td>2.5</td>\n",
       "      <td>28.6</td>\n",
       "      <td>1.3</td>\n",
       "      <td>6.9</td>\n",
       "      <td>0</td>\n",
       "      <td>1.7</td>\n",
       "      <td>0</td>\n",
       "      <td>not fire</td>\n",
       "    </tr>\n",
       "    <tr>\n",
       "      <th>4</th>\n",
       "      <td>05</td>\n",
       "      <td>06</td>\n",
       "      <td>2012</td>\n",
       "      <td>27</td>\n",
       "      <td>77</td>\n",
       "      <td>16</td>\n",
       "      <td>0</td>\n",
       "      <td>64.8</td>\n",
       "      <td>3</td>\n",
       "      <td>14.2</td>\n",
       "      <td>1.2</td>\n",
       "      <td>3.9</td>\n",
       "      <td>0.5</td>\n",
       "      <td>not fire</td>\n",
       "    </tr>\n",
       "  </tbody>\n",
       "</table>\n",
       "</div>"
      ],
      "text/plain": [
       "  day month  year Temperature  RH  Ws Rain   FFMC  DMC    DC  ISI  BUI  FWI  \\\n",
       "0  01    06  2012          29  57  18     0  65.7  3.4   7.6  1.3  3.4  0.5   \n",
       "1  02    06  2012          29  61  13   1.3  64.4  4.1   7.6    1  3.9  0.4   \n",
       "2  03    06  2012          26  82  22  13.1  47.1  2.5   7.1  0.3  2.7  0.1   \n",
       "3  04    06  2012          25  89  13   2.5  28.6  1.3   6.9    0  1.7    0   \n",
       "4  05    06  2012          27  77  16     0  64.8    3  14.2  1.2  3.9  0.5   \n",
       "\n",
       "     Classes    \n",
       "0  not fire     \n",
       "1  not fire     \n",
       "2  not fire     \n",
       "3  not fire     \n",
       "4  not fire     "
      ]
     },
     "execution_count": 2,
     "metadata": {},
     "output_type": "execute_result"
    }
   ],
   "source": [
    "df=pd.read_csv(\"Algerian_forest_fires_dataset.csv\",header = 1)\n",
    "df.head()"
   ]
  },
  {
   "cell_type": "code",
   "execution_count": 3,
   "id": "a3c88f49",
   "metadata": {},
   "outputs": [
    {
     "data": {
      "text/plain": [
       "day            0\n",
       "month          1\n",
       "year           1\n",
       "Temperature    1\n",
       " RH            1\n",
       " Ws            1\n",
       "Rain           1\n",
       "FFMC           1\n",
       "DMC            1\n",
       "DC             1\n",
       "ISI            1\n",
       "BUI            1\n",
       "FWI            1\n",
       "Classes        2\n",
       "dtype: int64"
      ]
     },
     "execution_count": 3,
     "metadata": {},
     "output_type": "execute_result"
    }
   ],
   "source": [
    "df.isnull().sum()"
   ]
  },
  {
   "cell_type": "code",
   "execution_count": 4,
   "id": "564567c3",
   "metadata": {},
   "outputs": [],
   "source": [
    "df.drop(index = [122,123],inplace = True)\n",
    "df.reset_index(inplace = True)\n",
    "df.drop('index',axis = 1 , inplace = True)"
   ]
  },
  {
   "cell_type": "markdown",
   "id": "f76f04a0",
   "metadata": {},
   "source": [
    "Date : (DD/MM/YYYY) Day, month ('june' to 'september'), year (2012) Weather data observations\n",
    "\n",
    "Temp : temperature noon (temperature max) in Celsius degrees: 22 to 42\n",
    "\n",
    "RH : Relative Humidity in %: 21 to 90\n",
    "\n",
    "Ws :Wind speed in km/h: 6 to 29\n",
    "\n",
    "Rain: total day in mm: 0 to 16.8 FWI Components\n",
    "\n",
    "Fine Fuel Moisture Code (FFMC) index from the FWI system: 28.6 to 92.5\n",
    "\n",
    "Duff Moisture Code (DMC) index from the FWI system: 1.1 to 65.9\n",
    "\n",
    "Drought Code (DC) index from the FWI system: 7 to 220.4\n",
    "\n",
    "Initial Spread Index (ISI) index from the FWI system: 0 to 18.5\n",
    "\n",
    "Buildup Index (BUI) index from the FWI system: 1.1 to 68\n",
    "\n",
    "Fire Weather Index (FWI) Index: 0 to 31.1"
   ]
  },
  {
   "cell_type": "code",
   "execution_count": 5,
   "id": "ba3ed202",
   "metadata": {},
   "outputs": [
    {
     "data": {
      "text/plain": [
       "Index(['day', 'month', 'year', 'Temperature', ' RH', ' Ws', 'Rain ', 'FFMC',\n",
       "       'DMC', 'DC', 'ISI', 'BUI', 'FWI', 'Classes  '],\n",
       "      dtype='object')"
      ]
     },
     "execution_count": 5,
     "metadata": {},
     "output_type": "execute_result"
    }
   ],
   "source": [
    "df.columns"
   ]
  },
  {
   "cell_type": "code",
   "execution_count": 6,
   "id": "7fd9d5bf",
   "metadata": {},
   "outputs": [],
   "source": [
    "df.drop('Classes  ', axis =1 , inplace = True)"
   ]
  },
  {
   "cell_type": "code",
   "execution_count": 7,
   "id": "7bd757e8",
   "metadata": {},
   "outputs": [
    {
     "data": {
      "text/html": [
       "<div>\n",
       "<style scoped>\n",
       "    .dataframe tbody tr th:only-of-type {\n",
       "        vertical-align: middle;\n",
       "    }\n",
       "\n",
       "    .dataframe tbody tr th {\n",
       "        vertical-align: top;\n",
       "    }\n",
       "\n",
       "    .dataframe thead th {\n",
       "        text-align: right;\n",
       "    }\n",
       "</style>\n",
       "<table border=\"1\" class=\"dataframe\">\n",
       "  <thead>\n",
       "    <tr style=\"text-align: right;\">\n",
       "      <th></th>\n",
       "      <th>day</th>\n",
       "      <th>month</th>\n",
       "      <th>year</th>\n",
       "      <th>Temperature</th>\n",
       "      <th>RH</th>\n",
       "      <th>Ws</th>\n",
       "      <th>Rain</th>\n",
       "      <th>FFMC</th>\n",
       "      <th>DMC</th>\n",
       "      <th>DC</th>\n",
       "      <th>ISI</th>\n",
       "      <th>BUI</th>\n",
       "      <th>FWI</th>\n",
       "    </tr>\n",
       "  </thead>\n",
       "  <tbody>\n",
       "    <tr>\n",
       "      <th>0</th>\n",
       "      <td>01</td>\n",
       "      <td>06</td>\n",
       "      <td>2012</td>\n",
       "      <td>29</td>\n",
       "      <td>57</td>\n",
       "      <td>18</td>\n",
       "      <td>0</td>\n",
       "      <td>65.7</td>\n",
       "      <td>3.4</td>\n",
       "      <td>7.6</td>\n",
       "      <td>1.3</td>\n",
       "      <td>3.4</td>\n",
       "      <td>0.5</td>\n",
       "    </tr>\n",
       "    <tr>\n",
       "      <th>1</th>\n",
       "      <td>02</td>\n",
       "      <td>06</td>\n",
       "      <td>2012</td>\n",
       "      <td>29</td>\n",
       "      <td>61</td>\n",
       "      <td>13</td>\n",
       "      <td>1.3</td>\n",
       "      <td>64.4</td>\n",
       "      <td>4.1</td>\n",
       "      <td>7.6</td>\n",
       "      <td>1</td>\n",
       "      <td>3.9</td>\n",
       "      <td>0.4</td>\n",
       "    </tr>\n",
       "    <tr>\n",
       "      <th>2</th>\n",
       "      <td>03</td>\n",
       "      <td>06</td>\n",
       "      <td>2012</td>\n",
       "      <td>26</td>\n",
       "      <td>82</td>\n",
       "      <td>22</td>\n",
       "      <td>13.1</td>\n",
       "      <td>47.1</td>\n",
       "      <td>2.5</td>\n",
       "      <td>7.1</td>\n",
       "      <td>0.3</td>\n",
       "      <td>2.7</td>\n",
       "      <td>0.1</td>\n",
       "    </tr>\n",
       "    <tr>\n",
       "      <th>3</th>\n",
       "      <td>04</td>\n",
       "      <td>06</td>\n",
       "      <td>2012</td>\n",
       "      <td>25</td>\n",
       "      <td>89</td>\n",
       "      <td>13</td>\n",
       "      <td>2.5</td>\n",
       "      <td>28.6</td>\n",
       "      <td>1.3</td>\n",
       "      <td>6.9</td>\n",
       "      <td>0</td>\n",
       "      <td>1.7</td>\n",
       "      <td>0</td>\n",
       "    </tr>\n",
       "  </tbody>\n",
       "</table>\n",
       "</div>"
      ],
      "text/plain": [
       "  day month  year Temperature  RH  Ws Rain   FFMC  DMC   DC  ISI  BUI  FWI\n",
       "0  01    06  2012          29  57  18     0  65.7  3.4  7.6  1.3  3.4  0.5\n",
       "1  02    06  2012          29  61  13   1.3  64.4  4.1  7.6    1  3.9  0.4\n",
       "2  03    06  2012          26  82  22  13.1  47.1  2.5  7.1  0.3  2.7  0.1\n",
       "3  04    06  2012          25  89  13   2.5  28.6  1.3  6.9    0  1.7    0"
      ]
     },
     "execution_count": 7,
     "metadata": {},
     "output_type": "execute_result"
    }
   ],
   "source": [
    "df.head(4)"
   ]
  },
  {
   "cell_type": "code",
   "execution_count": 8,
   "id": "e68c575a",
   "metadata": {},
   "outputs": [
    {
     "data": {
      "text/plain": [
       "day            0\n",
       "month          0\n",
       "year           0\n",
       "Temperature    0\n",
       " RH            0\n",
       " Ws            0\n",
       "Rain           0\n",
       "FFMC           0\n",
       "DMC            0\n",
       "DC             0\n",
       "ISI            0\n",
       "BUI            0\n",
       "FWI            0\n",
       "dtype: int64"
      ]
     },
     "execution_count": 8,
     "metadata": {},
     "output_type": "execute_result"
    }
   ],
   "source": [
    "df.isnull().sum()"
   ]
  },
  {
   "cell_type": "code",
   "execution_count": 9,
   "id": "92b552c7",
   "metadata": {},
   "outputs": [],
   "source": [
    "#Observation \n",
    "# As in the dataset temperature is dependent variable and all the feature is a independent variable"
   ]
  },
  {
   "cell_type": "code",
   "execution_count": 10,
   "id": "afb3378e",
   "metadata": {},
   "outputs": [
    {
     "data": {
      "text/plain": [
       "day            object\n",
       "month          object\n",
       "year           object\n",
       "Temperature    object\n",
       " RH            object\n",
       " Ws            object\n",
       "Rain           object\n",
       "FFMC           object\n",
       "DMC            object\n",
       "DC             object\n",
       "ISI            object\n",
       "BUI            object\n",
       "FWI            object\n",
       "dtype: object"
      ]
     },
     "execution_count": 10,
     "metadata": {},
     "output_type": "execute_result"
    }
   ],
   "source": [
    "df.dtypes"
   ]
  },
  {
   "cell_type": "code",
   "execution_count": 11,
   "id": "b57aadc9",
   "metadata": {},
   "outputs": [],
   "source": [
    "df[\"DC\"] = [float(str(i).replace(\" \", \"\")) for i in df[\"DC\"]]"
   ]
  },
  {
   "cell_type": "code",
   "execution_count": 12,
   "id": "1319c08c",
   "metadata": {},
   "outputs": [],
   "source": [
    "df['day'] = df['day'].astype(int)\n",
    "df['month'] = df['month'].astype(int)\n",
    "df['year'] = df['year'].astype(int)\n",
    "df['Temperature'] = df['Temperature'].astype(int)\n",
    "df[' RH'] = df[' RH'].astype(int)\n",
    "df['Rain '] = df['Rain '].astype(float)\n",
    "df['FFMC'] = df['FFMC'].astype(float)\n",
    "df['DMC'] = df['DMC'].astype(float)\n",
    "df['BUI'] = df['BUI'].astype(float)\n",
    "df['ISI'] = df['ISI'].astype(float)\n",
    "df[' Ws'] = df[' Ws'].astype(float)\n",
    "df['DC'] = df['DC'].astype(float)"
   ]
  },
  {
   "cell_type": "code",
   "execution_count": 13,
   "id": "84a79c99",
   "metadata": {},
   "outputs": [
    {
     "name": "stdout",
     "output_type": "stream",
     "text": [
      "0.5\n",
      "0.4\n",
      "0.1\n",
      "0\n",
      "0.5\n",
      "2.5\n",
      "7.2\n",
      "7.1\n",
      "0.3\n",
      "0.9\n",
      "5.6\n",
      "7.1 \n",
      "0.2\n",
      "0.4\n",
      "0.1\n",
      "0\n",
      "0\n",
      "0.2\n",
      "1.4\n",
      "0.4\n",
      "2.2\n",
      "2.3\n",
      "3.8\n",
      "7.5\n",
      "8.4\n",
      "10.6\n",
      "15\n",
      "13.9\n",
      "3.9\n",
      "12.9\n",
      "0.4\n",
      "0.3\n",
      "0.5\n",
      "1.7\n",
      "4.9\n",
      "6.8\n",
      "3.2\n",
      "8\n",
      "0.6\n",
      "0.5\n",
      "2.2\n",
      "0.9\n",
      "3.4\n",
      "0.8\n",
      "0.5\n",
      "0.4\n",
      "3.6\n",
      "6\n",
      "10.9\n",
      "4\n",
      "8.8\n",
      "2.8\n",
      "2.1\n",
      "1.3\n",
      "7.3\n",
      "15.3\n",
      "15.3\n",
      "11.3\n",
      "11.9\n",
      "10.7\n",
      "15.7\n",
      "0.9\n",
      "0.8\n",
      "0.8\n",
      "3.9\n",
      "6.1\n",
      "6.8\n",
      "8\n",
      "2.6\n",
      "9.9\n",
      "11.6\n",
      "12.1\n",
      "4.2\n",
      "10.2\n",
      "10.6\n",
      "6.3\n",
      "4.2\n",
      "14.6\n",
      "16.1\n",
      "17.2\n",
      "16.8\n",
      "18.4\n",
      "20.4\n",
      "22.3\n",
      "20.9\n",
      "20.3\n",
      "13.7\n",
      "13.2\n",
      "19.9\n",
      "30.2\n",
      "4.2\n",
      "0.3\n",
      "0.1\n",
      "0\n",
      "0\n",
      "0.5\n",
      "1.7\n",
      "0.9\n",
      "0.6\n",
      "0.4\n",
      "0.2\n",
      "0.3\n",
      "0.3\n",
      "0.5\n",
      "0\n",
      "0.1\n",
      "0\n",
      "0.8\n",
      "5.9\n",
      "7.7\n",
      "9.7\n",
      "6.3\n",
      "8.3\n",
      "2.8\n",
      "0.7\n",
      "0.7\n",
      "0.1\n",
      "1.7\n",
      "4.1\n",
      "0.9\n",
      "0.1\n",
      "0.1\n",
      "0.2\n",
      "0.2\n",
      "0.1\n",
      "1\n",
      "0.9\n",
      "3.1\n",
      "6\n",
      "0.8\n",
      "1.9\n",
      "10\n",
      "16.7\n",
      "12.9\n",
      "0.9\n",
      "0.3\n",
      "0.6\n",
      "0.1\n",
      "0.4\n",
      "0.4\n",
      "0.4\n",
      "0.3\n",
      "4.9\n",
      "1.2\n",
      "0.8\n",
      "5.3\n",
      "6.7\n",
      "9.5\n",
      "12\n",
      "18.4\n",
      "7.2\n",
      "2.2\n",
      "0.5\n",
      "6.4\n",
      "5.2\n",
      "9.9\n",
      "15\n",
      "6.3\n",
      "5.2\n",
      "3\n",
      "3.1\n",
      "1.3\n",
      "0.8\n",
      "9.6\n",
      "4.7\n",
      "fire   \n",
      "14.1\n",
      "7.3\n",
      "7.7\n",
      "9.1\n",
      "13\n",
      "17.3\n",
      "30\n",
      "25.4\n",
      "16.3\n",
      "2.5\n",
      "0.7\n",
      "1\n",
      "3.2\n",
      "9\n",
      "10.9\n",
      "13.2\n",
      "14.5\n",
      "0.8\n",
      "13.5\n",
      "19.5\n",
      "20.9\n",
      "12.6\n",
      "0.8\n",
      "0.6\n",
      "5.9\n",
      "12.7\n",
      "10.7\n",
      "21.6\n",
      "18.8\n",
      "10.5\n",
      "15.7\n",
      "5.5\n",
      "14.8\n",
      "24\n",
      "26.3\n",
      "7.7\n",
      "9\n",
      "12.2\n",
      "18.1\n",
      "24.5\n",
      "26.9\n",
      "31.1\n",
      "30.3\n",
      "26.1\n",
      "6.1\n",
      "5.9\n",
      "16\n",
      "19.4\n",
      "0\n",
      "0.8\n",
      "2.5\n",
      "0.7\n",
      "0.4\n",
      "0.4\n",
      "3.2\n",
      "2.7\n",
      "3.7\n",
      "0.3\n",
      "1.2\n",
      "3.9\n",
      "10.3\n",
      "5.7\n",
      "9.8\n",
      "19.3\n",
      "17.5\n",
      "15.4\n",
      "5.6\n",
      "3.8\n",
      "21.6\n",
      "13.7\n",
      "15.2\n",
      "0.4\n",
      "3\n",
      "6.5\n",
      "0\n",
      "0.2\n",
      "0.7\n",
      "0.5\n"
     ]
    }
   ],
   "source": [
    "for i in df[\"FWI\"]:\n",
    "    print(i)"
   ]
  },
  {
   "cell_type": "code",
   "execution_count": 14,
   "id": "512301e0",
   "metadata": {},
   "outputs": [
    {
     "data": {
      "text/plain": [
       "day              int32\n",
       "month            int32\n",
       "year             int32\n",
       "Temperature      int32\n",
       " RH              int32\n",
       " Ws            float64\n",
       "Rain           float64\n",
       "FFMC           float64\n",
       "DMC            float64\n",
       "DC             float64\n",
       "ISI            float64\n",
       "BUI            float64\n",
       "FWI             object\n",
       "dtype: object"
      ]
     },
     "execution_count": 14,
     "metadata": {},
     "output_type": "execute_result"
    }
   ],
   "source": [
    "df.dtypes"
   ]
  },
  {
   "cell_type": "markdown",
   "id": "b5992234",
   "metadata": {},
   "source": [
    "# Segmentation of the chategorical and numerical feature"
   ]
  },
  {
   "cell_type": "code",
   "execution_count": 15,
   "id": "2ca10df0",
   "metadata": {},
   "outputs": [
    {
     "name": "stdout",
     "output_type": "stream",
     "text": [
      "Numerical Feature : ['day', 'month', 'year', 'Temperature', ' RH', ' Ws', 'Rain ', 'FFMC', 'DMC', 'DC', 'ISI', 'BUI']\n",
      "Category Feature  :  ['FWI']\n"
     ]
    }
   ],
   "source": [
    "numerical_value = [fea for fea in df.columns if df[fea].dtype!='O']\n",
    "\n",
    "category_value = [fea for fea in df.columns if df[fea].dtype=='O']\n",
    "\n",
    "print(\"Numerical Feature :\",numerical_value)\n",
    "\n",
    "print(\"Category Feature  : \",category_value)"
   ]
  },
  {
   "cell_type": "markdown",
   "id": "85c43623",
   "metadata": {},
   "source": [
    "# Univariate Analysis of the Numerical Feature"
   ]
  },
  {
   "cell_type": "code",
   "execution_count": 16,
   "id": "6faa9dbb",
   "metadata": {},
   "outputs": [
    {
     "name": "stderr",
     "output_type": "stream",
     "text": [
      "C:\\Users\\aswin\\anaconda3\\lib\\site-packages\\seaborn\\distributions.py:316: UserWarning: Dataset has 0 variance; skipping density estimate. Pass `warn_singular=False` to disable this warning.\n",
      "  warnings.warn(msg, UserWarning)\n"
     ]
    },
    {
     "data": {
      "image/png": "[encoded data removed]",
      "text/plain": [
       "<Figure size 1080x1080 with 12 Axes>"
      ]
     },
     "metadata": {
      "needs_background": "light"
     },
     "output_type": "display_data"
    }
   ],
   "source": [
    "plt.figure(figsize = (15,15))\n",
    "plt.suptitle(\"Univariate Analysis of Numerical Feature\",fontsize = 20,fontweight = 'bold')\n",
    "\n",
    "for i in range(0,len(numerical_value)):\n",
    "    plt.subplot(5,3,i+1)\n",
    "    sns.kdeplot(x = df[numerical_value[i]],shade = True,color = 'g')\n",
    "    plt.xlabel(numerical_value[i])\n",
    "    plt.tight_layout()"
   ]
  },
  {
   "cell_type": "markdown",
   "id": "1bd1d067",
   "metadata": {},
   "source": [
    "In the Numerical Feature Analysis the observation is\n",
    "\n",
    "1.Day show the normal distribution\n",
    "\n",
    "2.Month show like non convex function and it has sin distributin\n",
    "\n",
    "3.Temperature also show the normal distribution from the range 20 to 45\n",
    "\n",
    "4.RH show normal distributin but somehow tilt to left and has left skewed\n",
    "\n",
    "5.WH show the Normal Distribution in the range 5 to 30 and also has some outliers\n",
    "\n",
    "6.Rain is right skewed and has huge outliers\n",
    "\n",
    "7.FFMC Left skewed with normal distribution\n",
    "\n",
    "8.DMC is right skewed with Normal distribution\n",
    "\n",
    "9.ISI is Normal Distributed and also right skewed\n",
    "\n",
    "10.BUI is Normal Distributed and also right skewed"
   ]
  },
  {
   "cell_type": "markdown",
   "id": "24d470f5",
   "metadata": {},
   "source": [
    "# Univariate Analysis of the Categorical Feature"
   ]
  },
  {
   "cell_type": "code",
   "execution_count": 17,
   "id": "19984272",
   "metadata": {},
   "outputs": [
    {
     "data": {
      "image/png": "[encoded data removed]",
      "text/plain": [
       "<Figure size 1080x1080 with 1 Axes>"
      ]
     },
     "metadata": {
      "needs_background": "light"
     },
     "output_type": "display_data"
    }
   ],
   "source": [
    "plt.figure(figsize = (15,15))\n",
    "plt.suptitle(\"Univariate Analysis of the categorical Feature\",fontsize = 20 , fontweight='bold',alpha=0.8,y=1)\n",
    "\n",
    "for i in range(0,len(category_value)):\n",
    "    plt.subplot(5,3,i+1)\n",
    "    sns.countplot(x=df[category_value[i]])\n",
    "    plt.xlabel(category_value[i])\n",
    "    plt.xticks(rotation=45)\n",
    "    plt.tight_layout()"
   ]
  },
  {
   "cell_type": "code",
   "execution_count": 18,
   "id": "a836d0ec",
   "metadata": {},
   "outputs": [
    {
     "data": {
      "text/plain": [
       "Index(['day', 'month', 'year', 'Temperature', ' RH', ' Ws', 'Rain ', 'FFMC',\n",
       "       'DMC', 'DC', 'ISI', 'BUI', 'FWI'],\n",
       "      dtype='object')"
      ]
     },
     "execution_count": 18,
     "metadata": {},
     "output_type": "execute_result"
    }
   ],
   "source": [
    "df.columns"
   ]
  },
  {
   "cell_type": "code",
   "execution_count": 19,
   "id": "cd345e6b",
   "metadata": {},
   "outputs": [],
   "source": [
    "df.drop('FWI', axis =1 , inplace = True)"
   ]
  },
  {
   "cell_type": "code",
   "execution_count": 20,
   "id": "56fdeb56",
   "metadata": {},
   "outputs": [
    {
     "data": {
      "text/html": [
       "<div>\n",
       "<style scoped>\n",
       "    .dataframe tbody tr th:only-of-type {\n",
       "        vertical-align: middle;\n",
       "    }\n",
       "\n",
       "    .dataframe tbody tr th {\n",
       "        vertical-align: top;\n",
       "    }\n",
       "\n",
       "    .dataframe thead th {\n",
       "        text-align: right;\n",
       "    }\n",
       "</style>\n",
       "<table border=\"1\" class=\"dataframe\">\n",
       "  <thead>\n",
       "    <tr style=\"text-align: right;\">\n",
       "      <th></th>\n",
       "      <th>day</th>\n",
       "      <th>month</th>\n",
       "      <th>year</th>\n",
       "      <th>Temperature</th>\n",
       "      <th>RH</th>\n",
       "      <th>Ws</th>\n",
       "      <th>Rain</th>\n",
       "      <th>FFMC</th>\n",
       "      <th>DMC</th>\n",
       "      <th>DC</th>\n",
       "      <th>ISI</th>\n",
       "      <th>BUI</th>\n",
       "    </tr>\n",
       "  </thead>\n",
       "  <tbody>\n",
       "    <tr>\n",
       "      <th>0</th>\n",
       "      <td>1</td>\n",
       "      <td>6</td>\n",
       "      <td>2012</td>\n",
       "      <td>29</td>\n",
       "      <td>57</td>\n",
       "      <td>18.0</td>\n",
       "      <td>0.0</td>\n",
       "      <td>65.7</td>\n",
       "      <td>3.4</td>\n",
       "      <td>7.6</td>\n",
       "      <td>1.3</td>\n",
       "      <td>3.4</td>\n",
       "    </tr>\n",
       "    <tr>\n",
       "      <th>1</th>\n",
       "      <td>2</td>\n",
       "      <td>6</td>\n",
       "      <td>2012</td>\n",
       "      <td>29</td>\n",
       "      <td>61</td>\n",
       "      <td>13.0</td>\n",
       "      <td>1.3</td>\n",
       "      <td>64.4</td>\n",
       "      <td>4.1</td>\n",
       "      <td>7.6</td>\n",
       "      <td>1.0</td>\n",
       "      <td>3.9</td>\n",
       "    </tr>\n",
       "    <tr>\n",
       "      <th>2</th>\n",
       "      <td>3</td>\n",
       "      <td>6</td>\n",
       "      <td>2012</td>\n",
       "      <td>26</td>\n",
       "      <td>82</td>\n",
       "      <td>22.0</td>\n",
       "      <td>13.1</td>\n",
       "      <td>47.1</td>\n",
       "      <td>2.5</td>\n",
       "      <td>7.1</td>\n",
       "      <td>0.3</td>\n",
       "      <td>2.7</td>\n",
       "    </tr>\n",
       "    <tr>\n",
       "      <th>3</th>\n",
       "      <td>4</td>\n",
       "      <td>6</td>\n",
       "      <td>2012</td>\n",
       "      <td>25</td>\n",
       "      <td>89</td>\n",
       "      <td>13.0</td>\n",
       "      <td>2.5</td>\n",
       "      <td>28.6</td>\n",
       "      <td>1.3</td>\n",
       "      <td>6.9</td>\n",
       "      <td>0.0</td>\n",
       "      <td>1.7</td>\n",
       "    </tr>\n",
       "    <tr>\n",
       "      <th>4</th>\n",
       "      <td>5</td>\n",
       "      <td>6</td>\n",
       "      <td>2012</td>\n",
       "      <td>27</td>\n",
       "      <td>77</td>\n",
       "      <td>16.0</td>\n",
       "      <td>0.0</td>\n",
       "      <td>64.8</td>\n",
       "      <td>3.0</td>\n",
       "      <td>14.2</td>\n",
       "      <td>1.2</td>\n",
       "      <td>3.9</td>\n",
       "    </tr>\n",
       "    <tr>\n",
       "      <th>5</th>\n",
       "      <td>6</td>\n",
       "      <td>6</td>\n",
       "      <td>2012</td>\n",
       "      <td>31</td>\n",
       "      <td>67</td>\n",
       "      <td>14.0</td>\n",
       "      <td>0.0</td>\n",
       "      <td>82.6</td>\n",
       "      <td>5.8</td>\n",
       "      <td>22.2</td>\n",
       "      <td>3.1</td>\n",
       "      <td>7.0</td>\n",
       "    </tr>\n",
       "    <tr>\n",
       "      <th>6</th>\n",
       "      <td>7</td>\n",
       "      <td>6</td>\n",
       "      <td>2012</td>\n",
       "      <td>33</td>\n",
       "      <td>54</td>\n",
       "      <td>13.0</td>\n",
       "      <td>0.0</td>\n",
       "      <td>88.2</td>\n",
       "      <td>9.9</td>\n",
       "      <td>30.5</td>\n",
       "      <td>6.4</td>\n",
       "      <td>10.9</td>\n",
       "    </tr>\n",
       "    <tr>\n",
       "      <th>7</th>\n",
       "      <td>8</td>\n",
       "      <td>6</td>\n",
       "      <td>2012</td>\n",
       "      <td>30</td>\n",
       "      <td>73</td>\n",
       "      <td>15.0</td>\n",
       "      <td>0.0</td>\n",
       "      <td>86.6</td>\n",
       "      <td>12.1</td>\n",
       "      <td>38.3</td>\n",
       "      <td>5.6</td>\n",
       "      <td>13.5</td>\n",
       "    </tr>\n",
       "    <tr>\n",
       "      <th>8</th>\n",
       "      <td>9</td>\n",
       "      <td>6</td>\n",
       "      <td>2012</td>\n",
       "      <td>25</td>\n",
       "      <td>88</td>\n",
       "      <td>13.0</td>\n",
       "      <td>0.2</td>\n",
       "      <td>52.9</td>\n",
       "      <td>7.9</td>\n",
       "      <td>38.8</td>\n",
       "      <td>0.4</td>\n",
       "      <td>10.5</td>\n",
       "    </tr>\n",
       "    <tr>\n",
       "      <th>9</th>\n",
       "      <td>10</td>\n",
       "      <td>6</td>\n",
       "      <td>2012</td>\n",
       "      <td>28</td>\n",
       "      <td>79</td>\n",
       "      <td>12.0</td>\n",
       "      <td>0.0</td>\n",
       "      <td>73.2</td>\n",
       "      <td>9.5</td>\n",
       "      <td>46.3</td>\n",
       "      <td>1.3</td>\n",
       "      <td>12.6</td>\n",
       "    </tr>\n",
       "  </tbody>\n",
       "</table>\n",
       "</div>"
      ],
      "text/plain": [
       "   day  month  year  Temperature   RH    Ws  Rain   FFMC   DMC    DC  ISI  \\\n",
       "0    1      6  2012           29   57  18.0    0.0  65.7   3.4   7.6  1.3   \n",
       "1    2      6  2012           29   61  13.0    1.3  64.4   4.1   7.6  1.0   \n",
       "2    3      6  2012           26   82  22.0   13.1  47.1   2.5   7.1  0.3   \n",
       "3    4      6  2012           25   89  13.0    2.5  28.6   1.3   6.9  0.0   \n",
       "4    5      6  2012           27   77  16.0    0.0  64.8   3.0  14.2  1.2   \n",
       "5    6      6  2012           31   67  14.0    0.0  82.6   5.8  22.2  3.1   \n",
       "6    7      6  2012           33   54  13.0    0.0  88.2   9.9  30.5  6.4   \n",
       "7    8      6  2012           30   73  15.0    0.0  86.6  12.1  38.3  5.6   \n",
       "8    9      6  2012           25   88  13.0    0.2  52.9   7.9  38.8  0.4   \n",
       "9   10      6  2012           28   79  12.0    0.0  73.2   9.5  46.3  1.3   \n",
       "\n",
       "    BUI  \n",
       "0   3.4  \n",
       "1   3.9  \n",
       "2   2.7  \n",
       "3   1.7  \n",
       "4   3.9  \n",
       "5   7.0  \n",
       "6  10.9  \n",
       "7  13.5  \n",
       "8  10.5  \n",
       "9  12.6  "
      ]
     },
     "execution_count": 20,
     "metadata": {},
     "output_type": "execute_result"
    }
   ],
   "source": [
    "df.head(10)"
   ]
  },
  {
   "cell_type": "markdown",
   "id": "30643fd6",
   "metadata": {},
   "source": [
    "# Multivariate Analysis"
   ]
  },
  {
   "cell_type": "code",
   "execution_count": 21,
   "id": "249d7406",
   "metadata": {},
   "outputs": [
    {
     "data": {
      "image/png": "[encoded data removed]",
      "text/plain": [
       "<Figure size 1080x720 with 2 Axes>"
      ]
     },
     "metadata": {
      "needs_background": "light"
     },
     "output_type": "display_data"
    }
   ],
   "source": [
    "plt.figure(figsize = (15,10))\n",
    "sns.heatmap(df.corr(),cmap = \"CMRmap\",annot = True)\n",
    "plt.show()"
   ]
  },
  {
   "cell_type": "code",
   "execution_count": 22,
   "id": "f8a891d1",
   "metadata": {},
   "outputs": [
    {
     "data": {
      "text/plain": [
       "Index(['day', 'month', 'year', 'Temperature', ' RH', ' Ws', 'Rain ', 'FFMC',\n",
       "       'DMC', 'DC', 'ISI', 'BUI'],\n",
       "      dtype='object')"
      ]
     },
     "execution_count": 22,
     "metadata": {},
     "output_type": "execute_result"
    }
   ],
   "source": [
    "df.columns"
   ]
  },
  {
   "cell_type": "code",
   "execution_count": 23,
   "id": "4c5d6521",
   "metadata": {},
   "outputs": [
    {
     "data": {
      "text/plain": [
       "Text(0, 0.5, 'Temperature')"
      ]
     },
     "execution_count": 23,
     "metadata": {},
     "output_type": "execute_result"
    },
    {
     "data": {
      "image/png": "[encoded data removed]",
      "text/plain": [
       "<Figure size 432x288 with 1 Axes>"
      ]
     },
     "metadata": {
      "needs_background": "light"
     },
     "output_type": "display_data"
    }
   ],
   "source": [
    "plt.scatter(df[' RH'] , df['Temperature'])\n",
    "plt.xlabel(' RH')\n",
    "plt.ylabel('Temperature')"
   ]
  },
  {
   "cell_type": "code",
   "execution_count": 24,
   "id": "76a9a32a",
   "metadata": {},
   "outputs": [
    {
     "data": {
      "text/plain": [
       "Text(0, 0.5, 'Temperature')"
      ]
     },
     "execution_count": 24,
     "metadata": {},
     "output_type": "execute_result"
    },
    {
     "data": {
      "image/png": "[encoded data removed]",
      "text/plain": [
       "<Figure size 432x288 with 1 Axes>"
      ]
     },
     "metadata": {
      "needs_background": "light"
     },
     "output_type": "display_data"
    }
   ],
   "source": [
    "plt.scatter(df[' Ws'] , df['Temperature'])\n",
    "plt.xlabel(' Ws')\n",
    "plt.ylabel('Temperature')"
   ]
  },
  {
   "cell_type": "code",
   "execution_count": null,
   "id": "5a7be4fe",
   "metadata": {},
   "outputs": [],
   "source": []
  },
  {
   "cell_type": "code",
   "execution_count": 25,
   "id": "7d54ef88",
   "metadata": {},
   "outputs": [
    {
     "data": {
      "text/plain": [
       "Text(0, 0.5, 'Temperature')"
      ]
     },
     "execution_count": 25,
     "metadata": {},
     "output_type": "execute_result"
    },
    {
     "data": {
      "image/png": "[encoded data removed]",
      "text/plain": [
       "<Figure size 432x288 with 1 Axes>"
      ]
     },
     "metadata": {
      "needs_background": "light"
     },
     "output_type": "display_data"
    }
   ],
   "source": [
    "plt.scatter(df['Rain '] , df['Temperature'])\n",
    "plt.xlabel('Rain ')\n",
    "plt.ylabel('Temperature')"
   ]
  },
  {
   "cell_type": "code",
   "execution_count": 26,
   "id": "3894b650",
   "metadata": {},
   "outputs": [],
   "source": [
    "## Where the temperature is low thier is high rain , so temperature is inversally proportion to the rain"
   ]
  },
  {
   "cell_type": "code",
   "execution_count": 27,
   "id": "f39ad565",
   "metadata": {},
   "outputs": [
    {
     "data": {
      "text/plain": [
       "Text(0, 0.5, 'Temperature')"
      ]
     },
     "execution_count": 27,
     "metadata": {},
     "output_type": "execute_result"
    },
    {
     "data": {
      "image/png": "[encoded data removed]",
      "text/plain": [
       "<Figure size 432x288 with 1 Axes>"
      ]
     },
     "metadata": {
      "needs_background": "light"
     },
     "output_type": "display_data"
    }
   ],
   "source": [
    "plt.scatter(df['FFMC'] , df['Temperature'])\n",
    "plt.xlabel('FFMC')\n",
    "plt.ylabel('Temperature')"
   ]
  },
  {
   "cell_type": "code",
   "execution_count": 28,
   "id": "7224d14f",
   "metadata": {},
   "outputs": [],
   "source": [
    "## Here it show how the temperature is raising the FFMC is also get raising"
   ]
  },
  {
   "cell_type": "code",
   "execution_count": 29,
   "id": "46c2977b",
   "metadata": {},
   "outputs": [
    {
     "data": {
      "text/plain": [
       "Text(0, 0.5, 'Temperature')"
      ]
     },
     "execution_count": 29,
     "metadata": {},
     "output_type": "execute_result"
    },
    {
     "data": {
      "image/png": "[encoded data removed]",
      "text/plain": [
       "<Figure size 432x288 with 1 Axes>"
      ]
     },
     "metadata": {
      "needs_background": "light"
     },
     "output_type": "display_data"
    }
   ],
   "source": [
    "plt.scatter(df['DMC'] , df['Temperature'])\n",
    "plt.xlabel('DMC')\n",
    "plt.ylabel('Temperature')"
   ]
  },
  {
   "cell_type": "code",
   "execution_count": 30,
   "id": "304a452f",
   "metadata": {},
   "outputs": [
    {
     "data": {
      "text/plain": [
       "<AxesSubplot:xlabel='Rain ', ylabel='Temperature'>"
      ]
     },
     "execution_count": 30,
     "metadata": {},
     "output_type": "execute_result"
    },
    {
     "data": {
      "image/png": "[encoded data removed]",
      "text/plain": [
       "<Figure size 432x288 with 1 Axes>"
      ]
     },
     "metadata": {
      "needs_background": "light"
     },
     "output_type": "display_data"
    }
   ],
   "source": [
    "sns.regplot(x = 'Rain ' , y = 'Temperature'  ,  data = df)"
   ]
  },
  {
   "cell_type": "code",
   "execution_count": 31,
   "id": "eaa4c20a",
   "metadata": {},
   "outputs": [
    {
     "data": {
      "text/plain": [
       "Index(['day', 'month', 'year', 'Temperature', ' RH', ' Ws', 'Rain ', 'FFMC',\n",
       "       'DMC', 'DC', 'ISI', 'BUI'],\n",
       "      dtype='object')"
      ]
     },
     "execution_count": 31,
     "metadata": {},
     "output_type": "execute_result"
    }
   ],
   "source": [
    "df.columns"
   ]
  },
  {
   "cell_type": "code",
   "execution_count": 32,
   "id": "b6686bcd",
   "metadata": {},
   "outputs": [],
   "source": [
    "X = df[['day', 'month', 'year',' RH', ' Ws', 'Rain ', 'FFMC',\n",
    "       'DMC', 'DC', 'ISI', 'BUI']]\n",
    "y = df['Temperature']"
   ]
  },
  {
   "cell_type": "code",
   "execution_count": 33,
   "id": "3d1fb873",
   "metadata": {},
   "outputs": [
    {
     "name": "stdout",
     "output_type": "stream",
     "text": [
      "     day  month  year   RH    Ws  Rain   FFMC   DMC    DC  ISI   BUI\n",
      "0      1      6  2012   57  18.0    0.0  65.7   3.4   7.6  1.3   3.4\n",
      "1      2      6  2012   61  13.0    1.3  64.4   4.1   7.6  1.0   3.9\n",
      "2      3      6  2012   82  22.0   13.1  47.1   2.5   7.1  0.3   2.7\n",
      "3      4      6  2012   89  13.0    2.5  28.6   1.3   6.9  0.0   1.7\n",
      "4      5      6  2012   77  16.0    0.0  64.8   3.0  14.2  1.2   3.9\n",
      "..   ...    ...   ...  ...   ...    ...   ...   ...   ...  ...   ...\n",
      "239   26      9  2012   65  14.0    0.0  85.4  16.0  44.5  4.5  16.9\n",
      "240   27      9  2012   87  15.0    4.4  41.1   6.5   8.0  0.1   6.2\n",
      "241   28      9  2012   87  29.0    0.5  45.9   3.5   7.9  0.4   3.4\n",
      "242   29      9  2012   54  18.0    0.1  79.7   4.3  15.2  1.7   5.1\n",
      "243   30      9  2012   64  15.0    0.2  67.3   3.8  16.5  1.2   4.8\n",
      "\n",
      "[244 rows x 11 columns]\n"
     ]
    }
   ],
   "source": [
    "print(X)"
   ]
  },
  {
   "cell_type": "code",
   "execution_count": 34,
   "id": "7b175059",
   "metadata": {},
   "outputs": [
    {
     "name": "stdout",
     "output_type": "stream",
     "text": [
      "0      29\n",
      "1      29\n",
      "2      26\n",
      "3      25\n",
      "4      27\n",
      "       ..\n",
      "239    30\n",
      "240    28\n",
      "241    27\n",
      "242    24\n",
      "243    24\n",
      "Name: Temperature, Length: 244, dtype: int32\n"
     ]
    }
   ],
   "source": [
    "print(y)"
   ]
  },
  {
   "cell_type": "markdown",
   "id": "acefff06",
   "metadata": {},
   "source": [
    "# Training and Testing of the Dataset"
   ]
  },
  {
   "cell_type": "code",
   "execution_count": 35,
   "id": "e47beb64",
   "metadata": {},
   "outputs": [],
   "source": [
    "from sklearn.model_selection import train_test_split"
   ]
  },
  {
   "cell_type": "code",
   "execution_count": 36,
   "id": "1eba9428",
   "metadata": {},
   "outputs": [],
   "source": [
    "x_train, x_test, y_train, y_test = train_test_split(X, y, test_size=0.20, random_state=10)"
   ]
  },
  {
   "cell_type": "code",
   "execution_count": 37,
   "id": "573c0d46",
   "metadata": {},
   "outputs": [
    {
     "data": {
      "text/html": [
       "<div>\n",
       "<style scoped>\n",
       "    .dataframe tbody tr th:only-of-type {\n",
       "        vertical-align: middle;\n",
       "    }\n",
       "\n",
       "    .dataframe tbody tr th {\n",
       "        vertical-align: top;\n",
       "    }\n",
       "\n",
       "    .dataframe thead th {\n",
       "        text-align: right;\n",
       "    }\n",
       "</style>\n",
       "<table border=\"1\" class=\"dataframe\">\n",
       "  <thead>\n",
       "    <tr style=\"text-align: right;\">\n",
       "      <th></th>\n",
       "      <th>day</th>\n",
       "      <th>month</th>\n",
       "      <th>year</th>\n",
       "      <th>RH</th>\n",
       "      <th>Ws</th>\n",
       "      <th>Rain</th>\n",
       "      <th>FFMC</th>\n",
       "      <th>DMC</th>\n",
       "      <th>DC</th>\n",
       "      <th>ISI</th>\n",
       "      <th>BUI</th>\n",
       "    </tr>\n",
       "  </thead>\n",
       "  <tbody>\n",
       "    <tr>\n",
       "      <th>103</th>\n",
       "      <td>12</td>\n",
       "      <td>9</td>\n",
       "      <td>2012</td>\n",
       "      <td>88</td>\n",
       "      <td>13.0</td>\n",
       "      <td>0.0</td>\n",
       "      <td>71.0</td>\n",
       "      <td>2.6</td>\n",
       "      <td>16.6</td>\n",
       "      <td>1.2</td>\n",
       "      <td>3.7</td>\n",
       "    </tr>\n",
       "    <tr>\n",
       "      <th>20</th>\n",
       "      <td>21</td>\n",
       "      <td>6</td>\n",
       "      <td>2012</td>\n",
       "      <td>78</td>\n",
       "      <td>14.0</td>\n",
       "      <td>0.0</td>\n",
       "      <td>81.0</td>\n",
       "      <td>6.3</td>\n",
       "      <td>31.6</td>\n",
       "      <td>2.6</td>\n",
       "      <td>8.4</td>\n",
       "    </tr>\n",
       "    <tr>\n",
       "      <th>47</th>\n",
       "      <td>18</td>\n",
       "      <td>7</td>\n",
       "      <td>2012</td>\n",
       "      <td>68</td>\n",
       "      <td>14.0</td>\n",
       "      <td>0.0</td>\n",
       "      <td>85.4</td>\n",
       "      <td>12.1</td>\n",
       "      <td>43.1</td>\n",
       "      <td>4.6</td>\n",
       "      <td>14.2</td>\n",
       "    </tr>\n",
       "    <tr>\n",
       "      <th>205</th>\n",
       "      <td>23</td>\n",
       "      <td>8</td>\n",
       "      <td>2012</td>\n",
       "      <td>43</td>\n",
       "      <td>16.0</td>\n",
       "      <td>0.0</td>\n",
       "      <td>91.2</td>\n",
       "      <td>46.1</td>\n",
       "      <td>137.7</td>\n",
       "      <td>11.5</td>\n",
       "      <td>50.2</td>\n",
       "    </tr>\n",
       "    <tr>\n",
       "      <th>5</th>\n",
       "      <td>6</td>\n",
       "      <td>6</td>\n",
       "      <td>2012</td>\n",
       "      <td>67</td>\n",
       "      <td>14.0</td>\n",
       "      <td>0.0</td>\n",
       "      <td>82.6</td>\n",
       "      <td>5.8</td>\n",
       "      <td>22.2</td>\n",
       "      <td>3.1</td>\n",
       "      <td>7.0</td>\n",
       "    </tr>\n",
       "    <tr>\n",
       "      <th>...</th>\n",
       "      <td>...</td>\n",
       "      <td>...</td>\n",
       "      <td>...</td>\n",
       "      <td>...</td>\n",
       "      <td>...</td>\n",
       "      <td>...</td>\n",
       "      <td>...</td>\n",
       "      <td>...</td>\n",
       "      <td>...</td>\n",
       "      <td>...</td>\n",
       "      <td>...</td>\n",
       "    </tr>\n",
       "    <tr>\n",
       "      <th>64</th>\n",
       "      <td>4</td>\n",
       "      <td>8</td>\n",
       "      <td>2012</td>\n",
       "      <td>69</td>\n",
       "      <td>13.0</td>\n",
       "      <td>0.0</td>\n",
       "      <td>85.0</td>\n",
       "      <td>8.2</td>\n",
       "      <td>19.8</td>\n",
       "      <td>4.0</td>\n",
       "      <td>8.2</td>\n",
       "    </tr>\n",
       "    <tr>\n",
       "      <th>15</th>\n",
       "      <td>16</td>\n",
       "      <td>6</td>\n",
       "      <td>2012</td>\n",
       "      <td>89</td>\n",
       "      <td>13.0</td>\n",
       "      <td>0.7</td>\n",
       "      <td>36.1</td>\n",
       "      <td>1.7</td>\n",
       "      <td>7.6</td>\n",
       "      <td>0.0</td>\n",
       "      <td>2.2</td>\n",
       "    </tr>\n",
       "    <tr>\n",
       "      <th>228</th>\n",
       "      <td>15</td>\n",
       "      <td>9</td>\n",
       "      <td>2012</td>\n",
       "      <td>51</td>\n",
       "      <td>13.0</td>\n",
       "      <td>0.0</td>\n",
       "      <td>88.7</td>\n",
       "      <td>16.0</td>\n",
       "      <td>50.2</td>\n",
       "      <td>6.9</td>\n",
       "      <td>17.8</td>\n",
       "    </tr>\n",
       "    <tr>\n",
       "      <th>125</th>\n",
       "      <td>4</td>\n",
       "      <td>6</td>\n",
       "      <td>2012</td>\n",
       "      <td>64</td>\n",
       "      <td>14.0</td>\n",
       "      <td>0.0</td>\n",
       "      <td>79.4</td>\n",
       "      <td>5.2</td>\n",
       "      <td>15.4</td>\n",
       "      <td>2.2</td>\n",
       "      <td>5.6</td>\n",
       "    </tr>\n",
       "    <tr>\n",
       "      <th>9</th>\n",
       "      <td>10</td>\n",
       "      <td>6</td>\n",
       "      <td>2012</td>\n",
       "      <td>79</td>\n",
       "      <td>12.0</td>\n",
       "      <td>0.0</td>\n",
       "      <td>73.2</td>\n",
       "      <td>9.5</td>\n",
       "      <td>46.3</td>\n",
       "      <td>1.3</td>\n",
       "      <td>12.6</td>\n",
       "    </tr>\n",
       "  </tbody>\n",
       "</table>\n",
       "<p>195 rows × 11 columns</p>\n",
       "</div>"
      ],
      "text/plain": [
       "     day  month  year   RH    Ws  Rain   FFMC   DMC     DC   ISI   BUI\n",
       "103   12      9  2012   88  13.0    0.0  71.0   2.6   16.6   1.2   3.7\n",
       "20    21      6  2012   78  14.0    0.0  81.0   6.3   31.6   2.6   8.4\n",
       "47    18      7  2012   68  14.0    0.0  85.4  12.1   43.1   4.6  14.2\n",
       "205   23      8  2012   43  16.0    0.0  91.2  46.1  137.7  11.5  50.2\n",
       "5      6      6  2012   67  14.0    0.0  82.6   5.8   22.2   3.1   7.0\n",
       "..   ...    ...   ...  ...   ...    ...   ...   ...    ...   ...   ...\n",
       "64     4      8  2012   69  13.0    0.0  85.0   8.2   19.8   4.0   8.2\n",
       "15    16      6  2012   89  13.0    0.7  36.1   1.7    7.6   0.0   2.2\n",
       "228   15      9  2012   51  13.0    0.0  88.7  16.0   50.2   6.9  17.8\n",
       "125    4      6  2012   64  14.0    0.0  79.4   5.2   15.4   2.2   5.6\n",
       "9     10      6  2012   79  12.0    0.0  73.2   9.5   46.3   1.3  12.6\n",
       "\n",
       "[195 rows x 11 columns]"
      ]
     },
     "execution_count": 37,
     "metadata": {},
     "output_type": "execute_result"
    }
   ],
   "source": [
    "x_train"
   ]
  },
  {
   "cell_type": "code",
   "execution_count": 38,
   "id": "08332c7a",
   "metadata": {},
   "outputs": [
    {
     "data": {
      "text/html": [
       "<div>\n",
       "<style scoped>\n",
       "    .dataframe tbody tr th:only-of-type {\n",
       "        vertical-align: middle;\n",
       "    }\n",
       "\n",
       "    .dataframe tbody tr th {\n",
       "        vertical-align: top;\n",
       "    }\n",
       "\n",
       "    .dataframe thead th {\n",
       "        text-align: right;\n",
       "    }\n",
       "</style>\n",
       "<table border=\"1\" class=\"dataframe\">\n",
       "  <thead>\n",
       "    <tr style=\"text-align: right;\">\n",
       "      <th></th>\n",
       "      <th>day</th>\n",
       "      <th>month</th>\n",
       "      <th>year</th>\n",
       "      <th>RH</th>\n",
       "      <th>Ws</th>\n",
       "      <th>Rain</th>\n",
       "      <th>FFMC</th>\n",
       "      <th>DMC</th>\n",
       "      <th>DC</th>\n",
       "      <th>ISI</th>\n",
       "      <th>BUI</th>\n",
       "    </tr>\n",
       "  </thead>\n",
       "  <tbody>\n",
       "    <tr>\n",
       "      <th>162</th>\n",
       "      <td>11</td>\n",
       "      <td>7</td>\n",
       "      <td>2012</td>\n",
       "      <td>56</td>\n",
       "      <td>15.0</td>\n",
       "      <td>2.9</td>\n",
       "      <td>74.8</td>\n",
       "      <td>7.1</td>\n",
       "      <td>9.5</td>\n",
       "      <td>1.6</td>\n",
       "      <td>6.8</td>\n",
       "    </tr>\n",
       "    <tr>\n",
       "      <th>60</th>\n",
       "      <td>31</td>\n",
       "      <td>7</td>\n",
       "      <td>2012</td>\n",
       "      <td>64</td>\n",
       "      <td>17.0</td>\n",
       "      <td>0.0</td>\n",
       "      <td>87.2</td>\n",
       "      <td>31.9</td>\n",
       "      <td>145.7</td>\n",
       "      <td>6.8</td>\n",
       "      <td>41.2</td>\n",
       "    </tr>\n",
       "    <tr>\n",
       "      <th>61</th>\n",
       "      <td>1</td>\n",
       "      <td>8</td>\n",
       "      <td>2012</td>\n",
       "      <td>45</td>\n",
       "      <td>14.0</td>\n",
       "      <td>0.0</td>\n",
       "      <td>78.8</td>\n",
       "      <td>4.8</td>\n",
       "      <td>10.2</td>\n",
       "      <td>2.0</td>\n",
       "      <td>4.7</td>\n",
       "    </tr>\n",
       "    <tr>\n",
       "      <th>63</th>\n",
       "      <td>3</td>\n",
       "      <td>8</td>\n",
       "      <td>2012</td>\n",
       "      <td>63</td>\n",
       "      <td>14.0</td>\n",
       "      <td>0.3</td>\n",
       "      <td>76.6</td>\n",
       "      <td>5.7</td>\n",
       "      <td>10.0</td>\n",
       "      <td>1.7</td>\n",
       "      <td>5.5</td>\n",
       "    </tr>\n",
       "    <tr>\n",
       "      <th>69</th>\n",
       "      <td>9</td>\n",
       "      <td>8</td>\n",
       "      <td>2012</td>\n",
       "      <td>59</td>\n",
       "      <td>17.0</td>\n",
       "      <td>0.0</td>\n",
       "      <td>87.4</td>\n",
       "      <td>14.8</td>\n",
       "      <td>57.0</td>\n",
       "      <td>6.9</td>\n",
       "      <td>17.9</td>\n",
       "    </tr>\n",
       "    <tr>\n",
       "      <th>83</th>\n",
       "      <td>23</td>\n",
       "      <td>8</td>\n",
       "      <td>2012</td>\n",
       "      <td>53</td>\n",
       "      <td>16.0</td>\n",
       "      <td>0.0</td>\n",
       "      <td>89.5</td>\n",
       "      <td>37.6</td>\n",
       "      <td>161.5</td>\n",
       "      <td>10.4</td>\n",
       "      <td>47.5</td>\n",
       "    </tr>\n",
       "    <tr>\n",
       "      <th>55</th>\n",
       "      <td>26</td>\n",
       "      <td>7</td>\n",
       "      <td>2012</td>\n",
       "      <td>53</td>\n",
       "      <td>19.0</td>\n",
       "      <td>0.0</td>\n",
       "      <td>89.2</td>\n",
       "      <td>17.1</td>\n",
       "      <td>98.6</td>\n",
       "      <td>10.0</td>\n",
       "      <td>23.9</td>\n",
       "    </tr>\n",
       "    <tr>\n",
       "      <th>211</th>\n",
       "      <td>29</td>\n",
       "      <td>8</td>\n",
       "      <td>2012</td>\n",
       "      <td>53</td>\n",
       "      <td>17.0</td>\n",
       "      <td>0.5</td>\n",
       "      <td>80.2</td>\n",
       "      <td>20.7</td>\n",
       "      <td>149.2</td>\n",
       "      <td>2.7</td>\n",
       "      <td>30.6</td>\n",
       "    </tr>\n",
       "    <tr>\n",
       "      <th>46</th>\n",
       "      <td>17</td>\n",
       "      <td>7</td>\n",
       "      <td>2012</td>\n",
       "      <td>70</td>\n",
       "      <td>14.0</td>\n",
       "      <td>0.0</td>\n",
       "      <td>82.8</td>\n",
       "      <td>9.4</td>\n",
       "      <td>34.1</td>\n",
       "      <td>3.2</td>\n",
       "      <td>11.1</td>\n",
       "    </tr>\n",
       "    <tr>\n",
       "      <th>35</th>\n",
       "      <td>6</td>\n",
       "      <td>7</td>\n",
       "      <td>2012</td>\n",
       "      <td>63</td>\n",
       "      <td>14.0</td>\n",
       "      <td>0.0</td>\n",
       "      <td>87.0</td>\n",
       "      <td>10.9</td>\n",
       "      <td>37.0</td>\n",
       "      <td>5.6</td>\n",
       "      <td>12.5</td>\n",
       "    </tr>\n",
       "    <tr>\n",
       "      <th>181</th>\n",
       "      <td>30</td>\n",
       "      <td>7</td>\n",
       "      <td>2012</td>\n",
       "      <td>56</td>\n",
       "      <td>16.0</td>\n",
       "      <td>0.0</td>\n",
       "      <td>88.9</td>\n",
       "      <td>23.8</td>\n",
       "      <td>57.1</td>\n",
       "      <td>8.2</td>\n",
       "      <td>23.8</td>\n",
       "    </tr>\n",
       "    <tr>\n",
       "      <th>102</th>\n",
       "      <td>11</td>\n",
       "      <td>9</td>\n",
       "      <td>2012</td>\n",
       "      <td>77</td>\n",
       "      <td>21.0</td>\n",
       "      <td>1.8</td>\n",
       "      <td>58.5</td>\n",
       "      <td>1.9</td>\n",
       "      <td>8.4</td>\n",
       "      <td>1.1</td>\n",
       "      <td>2.4</td>\n",
       "    </tr>\n",
       "    <tr>\n",
       "      <th>195</th>\n",
       "      <td>13</td>\n",
       "      <td>8</td>\n",
       "      <td>2012</td>\n",
       "      <td>34</td>\n",
       "      <td>16.0</td>\n",
       "      <td>0.2</td>\n",
       "      <td>88.3</td>\n",
       "      <td>16.9</td>\n",
       "      <td>45.1</td>\n",
       "      <td>7.5</td>\n",
       "      <td>17.5</td>\n",
       "    </tr>\n",
       "    <tr>\n",
       "      <th>219</th>\n",
       "      <td>6</td>\n",
       "      <td>9</td>\n",
       "      <td>2012</td>\n",
       "      <td>71</td>\n",
       "      <td>14.0</td>\n",
       "      <td>6.5</td>\n",
       "      <td>64.5</td>\n",
       "      <td>3.3</td>\n",
       "      <td>9.1</td>\n",
       "      <td>1.0</td>\n",
       "      <td>3.5</td>\n",
       "    </tr>\n",
       "    <tr>\n",
       "      <th>159</th>\n",
       "      <td>8</td>\n",
       "      <td>7</td>\n",
       "      <td>2012</td>\n",
       "      <td>47</td>\n",
       "      <td>18.0</td>\n",
       "      <td>6.0</td>\n",
       "      <td>80.8</td>\n",
       "      <td>9.8</td>\n",
       "      <td>9.7</td>\n",
       "      <td>3.1</td>\n",
       "      <td>9.4</td>\n",
       "    </tr>\n",
       "    <tr>\n",
       "      <th>146</th>\n",
       "      <td>25</td>\n",
       "      <td>6</td>\n",
       "      <td>2012</td>\n",
       "      <td>70</td>\n",
       "      <td>16.0</td>\n",
       "      <td>0.0</td>\n",
       "      <td>86.0</td>\n",
       "      <td>12.8</td>\n",
       "      <td>25.6</td>\n",
       "      <td>5.4</td>\n",
       "      <td>12.7</td>\n",
       "    </tr>\n",
       "    <tr>\n",
       "      <th>127</th>\n",
       "      <td>6</td>\n",
       "      <td>6</td>\n",
       "      <td>2012</td>\n",
       "      <td>54</td>\n",
       "      <td>11.0</td>\n",
       "      <td>0.1</td>\n",
       "      <td>83.7</td>\n",
       "      <td>8.4</td>\n",
       "      <td>26.3</td>\n",
       "      <td>3.1</td>\n",
       "      <td>9.3</td>\n",
       "    </tr>\n",
       "    <tr>\n",
       "      <th>121</th>\n",
       "      <td>30</td>\n",
       "      <td>9</td>\n",
       "      <td>2012</td>\n",
       "      <td>78</td>\n",
       "      <td>14.0</td>\n",
       "      <td>1.4</td>\n",
       "      <td>45.0</td>\n",
       "      <td>1.9</td>\n",
       "      <td>7.5</td>\n",
       "      <td>0.2</td>\n",
       "      <td>2.4</td>\n",
       "    </tr>\n",
       "    <tr>\n",
       "      <th>186</th>\n",
       "      <td>4</td>\n",
       "      <td>8</td>\n",
       "      <td>2012</td>\n",
       "      <td>35</td>\n",
       "      <td>15.0</td>\n",
       "      <td>0.0</td>\n",
       "      <td>93.8</td>\n",
       "      <td>23.0</td>\n",
       "      <td>42.7</td>\n",
       "      <td>15.7</td>\n",
       "      <td>22.9</td>\n",
       "    </tr>\n",
       "    <tr>\n",
       "      <th>171</th>\n",
       "      <td>20</td>\n",
       "      <td>7</td>\n",
       "      <td>2012</td>\n",
       "      <td>50</td>\n",
       "      <td>16.0</td>\n",
       "      <td>0.0</td>\n",
       "      <td>89.9</td>\n",
       "      <td>32.7</td>\n",
       "      <td>71.0</td>\n",
       "      <td>9.5</td>\n",
       "      <td>32.6</td>\n",
       "    </tr>\n",
       "    <tr>\n",
       "      <th>10</th>\n",
       "      <td>11</td>\n",
       "      <td>6</td>\n",
       "      <td>2012</td>\n",
       "      <td>65</td>\n",
       "      <td>14.0</td>\n",
       "      <td>0.0</td>\n",
       "      <td>84.5</td>\n",
       "      <td>12.5</td>\n",
       "      <td>54.3</td>\n",
       "      <td>4.0</td>\n",
       "      <td>15.8</td>\n",
       "    </tr>\n",
       "    <tr>\n",
       "      <th>213</th>\n",
       "      <td>31</td>\n",
       "      <td>8</td>\n",
       "      <td>2012</td>\n",
       "      <td>59</td>\n",
       "      <td>19.0</td>\n",
       "      <td>0.0</td>\n",
       "      <td>89.1</td>\n",
       "      <td>27.8</td>\n",
       "      <td>168.2</td>\n",
       "      <td>9.8</td>\n",
       "      <td>39.3</td>\n",
       "    </tr>\n",
       "    <tr>\n",
       "      <th>26</th>\n",
       "      <td>27</td>\n",
       "      <td>6</td>\n",
       "      <td>2012</td>\n",
       "      <td>53</td>\n",
       "      <td>18.0</td>\n",
       "      <td>0.0</td>\n",
       "      <td>89.0</td>\n",
       "      <td>21.6</td>\n",
       "      <td>80.3</td>\n",
       "      <td>9.2</td>\n",
       "      <td>25.8</td>\n",
       "    </tr>\n",
       "    <tr>\n",
       "      <th>147</th>\n",
       "      <td>26</td>\n",
       "      <td>6</td>\n",
       "      <td>2012</td>\n",
       "      <td>62</td>\n",
       "      <td>16.0</td>\n",
       "      <td>0.0</td>\n",
       "      <td>87.8</td>\n",
       "      <td>16.5</td>\n",
       "      <td>34.5</td>\n",
       "      <td>7.0</td>\n",
       "      <td>16.4</td>\n",
       "    </tr>\n",
       "    <tr>\n",
       "      <th>185</th>\n",
       "      <td>3</td>\n",
       "      <td>8</td>\n",
       "      <td>2012</td>\n",
       "      <td>33</td>\n",
       "      <td>17.0</td>\n",
       "      <td>0.0</td>\n",
       "      <td>93.7</td>\n",
       "      <td>17.1</td>\n",
       "      <td>32.1</td>\n",
       "      <td>17.2</td>\n",
       "      <td>16.9</td>\n",
       "    </tr>\n",
       "    <tr>\n",
       "      <th>136</th>\n",
       "      <td>15</td>\n",
       "      <td>6</td>\n",
       "      <td>2012</td>\n",
       "      <td>90</td>\n",
       "      <td>15.0</td>\n",
       "      <td>0.0</td>\n",
       "      <td>66.8</td>\n",
       "      <td>7.2</td>\n",
       "      <td>14.7</td>\n",
       "      <td>1.2</td>\n",
       "      <td>7.1</td>\n",
       "    </tr>\n",
       "    <tr>\n",
       "      <th>76</th>\n",
       "      <td>16</td>\n",
       "      <td>8</td>\n",
       "      <td>2012</td>\n",
       "      <td>61</td>\n",
       "      <td>18.0</td>\n",
       "      <td>0.3</td>\n",
       "      <td>80.2</td>\n",
       "      <td>11.7</td>\n",
       "      <td>90.4</td>\n",
       "      <td>2.8</td>\n",
       "      <td>17.6</td>\n",
       "    </tr>\n",
       "    <tr>\n",
       "      <th>119</th>\n",
       "      <td>28</td>\n",
       "      <td>9</td>\n",
       "      <td>2012</td>\n",
       "      <td>47</td>\n",
       "      <td>14.0</td>\n",
       "      <td>0.7</td>\n",
       "      <td>77.5</td>\n",
       "      <td>7.1</td>\n",
       "      <td>8.8</td>\n",
       "      <td>1.8</td>\n",
       "      <td>6.8</td>\n",
       "    </tr>\n",
       "    <tr>\n",
       "      <th>120</th>\n",
       "      <td>29</td>\n",
       "      <td>9</td>\n",
       "      <td>2012</td>\n",
       "      <td>80</td>\n",
       "      <td>16.0</td>\n",
       "      <td>1.8</td>\n",
       "      <td>47.4</td>\n",
       "      <td>2.9</td>\n",
       "      <td>7.7</td>\n",
       "      <td>0.3</td>\n",
       "      <td>3.0</td>\n",
       "    </tr>\n",
       "    <tr>\n",
       "      <th>59</th>\n",
       "      <td>30</td>\n",
       "      <td>7</td>\n",
       "      <td>2012</td>\n",
       "      <td>79</td>\n",
       "      <td>15.0</td>\n",
       "      <td>0.0</td>\n",
       "      <td>85.4</td>\n",
       "      <td>28.5</td>\n",
       "      <td>136.0</td>\n",
       "      <td>4.7</td>\n",
       "      <td>37.4</td>\n",
       "    </tr>\n",
       "    <tr>\n",
       "      <th>116</th>\n",
       "      <td>25</td>\n",
       "      <td>9</td>\n",
       "      <td>2012</td>\n",
       "      <td>81</td>\n",
       "      <td>21.0</td>\n",
       "      <td>5.8</td>\n",
       "      <td>48.6</td>\n",
       "      <td>3.0</td>\n",
       "      <td>7.7</td>\n",
       "      <td>0.4</td>\n",
       "      <td>3.0</td>\n",
       "    </tr>\n",
       "    <tr>\n",
       "      <th>214</th>\n",
       "      <td>1</td>\n",
       "      <td>9</td>\n",
       "      <td>2012</td>\n",
       "      <td>86</td>\n",
       "      <td>16.0</td>\n",
       "      <td>0.0</td>\n",
       "      <td>37.9</td>\n",
       "      <td>0.9</td>\n",
       "      <td>8.2</td>\n",
       "      <td>0.1</td>\n",
       "      <td>1.4</td>\n",
       "    </tr>\n",
       "    <tr>\n",
       "      <th>6</th>\n",
       "      <td>7</td>\n",
       "      <td>6</td>\n",
       "      <td>2012</td>\n",
       "      <td>54</td>\n",
       "      <td>13.0</td>\n",
       "      <td>0.0</td>\n",
       "      <td>88.2</td>\n",
       "      <td>9.9</td>\n",
       "      <td>30.5</td>\n",
       "      <td>6.4</td>\n",
       "      <td>10.9</td>\n",
       "    </tr>\n",
       "    <tr>\n",
       "      <th>161</th>\n",
       "      <td>10</td>\n",
       "      <td>7</td>\n",
       "      <td>2012</td>\n",
       "      <td>51</td>\n",
       "      <td>16.0</td>\n",
       "      <td>3.8</td>\n",
       "      <td>77.5</td>\n",
       "      <td>8.0</td>\n",
       "      <td>9.5</td>\n",
       "      <td>2.0</td>\n",
       "      <td>7.7</td>\n",
       "    </tr>\n",
       "    <tr>\n",
       "      <th>24</th>\n",
       "      <td>25</td>\n",
       "      <td>6</td>\n",
       "      <td>2012</td>\n",
       "      <td>64</td>\n",
       "      <td>15.0</td>\n",
       "      <td>0.0</td>\n",
       "      <td>86.7</td>\n",
       "      <td>14.2</td>\n",
       "      <td>63.8</td>\n",
       "      <td>5.7</td>\n",
       "      <td>18.3</td>\n",
       "    </tr>\n",
       "    <tr>\n",
       "      <th>215</th>\n",
       "      <td>2</td>\n",
       "      <td>9</td>\n",
       "      <td>2012</td>\n",
       "      <td>67</td>\n",
       "      <td>19.0</td>\n",
       "      <td>0.0</td>\n",
       "      <td>75.4</td>\n",
       "      <td>2.9</td>\n",
       "      <td>16.3</td>\n",
       "      <td>2.0</td>\n",
       "      <td>4.0</td>\n",
       "    </tr>\n",
       "    <tr>\n",
       "      <th>19</th>\n",
       "      <td>20</td>\n",
       "      <td>6</td>\n",
       "      <td>2012</td>\n",
       "      <td>80</td>\n",
       "      <td>16.0</td>\n",
       "      <td>0.4</td>\n",
       "      <td>59.8</td>\n",
       "      <td>3.4</td>\n",
       "      <td>27.1</td>\n",
       "      <td>0.9</td>\n",
       "      <td>5.1</td>\n",
       "    </tr>\n",
       "    <tr>\n",
       "      <th>220</th>\n",
       "      <td>7</td>\n",
       "      <td>9</td>\n",
       "      <td>2012</td>\n",
       "      <td>62</td>\n",
       "      <td>15.0</td>\n",
       "      <td>0.0</td>\n",
       "      <td>83.3</td>\n",
       "      <td>5.8</td>\n",
       "      <td>17.7</td>\n",
       "      <td>3.8</td>\n",
       "      <td>6.4</td>\n",
       "    </tr>\n",
       "    <tr>\n",
       "      <th>106</th>\n",
       "      <td>15</td>\n",
       "      <td>9</td>\n",
       "      <td>2012</td>\n",
       "      <td>82</td>\n",
       "      <td>15.0</td>\n",
       "      <td>0.4</td>\n",
       "      <td>44.9</td>\n",
       "      <td>0.9</td>\n",
       "      <td>7.3</td>\n",
       "      <td>0.2</td>\n",
       "      <td>1.4</td>\n",
       "    </tr>\n",
       "    <tr>\n",
       "      <th>56</th>\n",
       "      <td>27</td>\n",
       "      <td>7</td>\n",
       "      <td>2012</td>\n",
       "      <td>48</td>\n",
       "      <td>13.0</td>\n",
       "      <td>0.0</td>\n",
       "      <td>90.3</td>\n",
       "      <td>22.2</td>\n",
       "      <td>108.5</td>\n",
       "      <td>8.7</td>\n",
       "      <td>29.4</td>\n",
       "    </tr>\n",
       "    <tr>\n",
       "      <th>80</th>\n",
       "      <td>20</td>\n",
       "      <td>8</td>\n",
       "      <td>2012</td>\n",
       "      <td>68</td>\n",
       "      <td>19.0</td>\n",
       "      <td>0.0</td>\n",
       "      <td>88.3</td>\n",
       "      <td>25.9</td>\n",
       "      <td>130.6</td>\n",
       "      <td>8.8</td>\n",
       "      <td>34.7</td>\n",
       "    </tr>\n",
       "    <tr>\n",
       "      <th>182</th>\n",
       "      <td>31</td>\n",
       "      <td>7</td>\n",
       "      <td>2012</td>\n",
       "      <td>55</td>\n",
       "      <td>15.0</td>\n",
       "      <td>0.0</td>\n",
       "      <td>89.3</td>\n",
       "      <td>28.3</td>\n",
       "      <td>67.2</td>\n",
       "      <td>8.3</td>\n",
       "      <td>28.3</td>\n",
       "    </tr>\n",
       "    <tr>\n",
       "      <th>132</th>\n",
       "      <td>11</td>\n",
       "      <td>6</td>\n",
       "      <td>2012</td>\n",
       "      <td>42</td>\n",
       "      <td>21.0</td>\n",
       "      <td>0.0</td>\n",
       "      <td>90.6</td>\n",
       "      <td>18.2</td>\n",
       "      <td>30.5</td>\n",
       "      <td>13.4</td>\n",
       "      <td>18.0</td>\n",
       "    </tr>\n",
       "    <tr>\n",
       "      <th>216</th>\n",
       "      <td>3</td>\n",
       "      <td>9</td>\n",
       "      <td>2012</td>\n",
       "      <td>75</td>\n",
       "      <td>16.0</td>\n",
       "      <td>0.0</td>\n",
       "      <td>82.2</td>\n",
       "      <td>4.4</td>\n",
       "      <td>24.3</td>\n",
       "      <td>3.3</td>\n",
       "      <td>6.0</td>\n",
       "    </tr>\n",
       "    <tr>\n",
       "      <th>198</th>\n",
       "      <td>16</td>\n",
       "      <td>8</td>\n",
       "      <td>2012</td>\n",
       "      <td>41</td>\n",
       "      <td>10.0</td>\n",
       "      <td>0.1</td>\n",
       "      <td>92.0</td>\n",
       "      <td>22.6</td>\n",
       "      <td>65.1</td>\n",
       "      <td>9.5</td>\n",
       "      <td>24.2</td>\n",
       "    </tr>\n",
       "    <tr>\n",
       "      <th>70</th>\n",
       "      <td>10</td>\n",
       "      <td>8</td>\n",
       "      <td>2012</td>\n",
       "      <td>55</td>\n",
       "      <td>14.0</td>\n",
       "      <td>0.0</td>\n",
       "      <td>88.9</td>\n",
       "      <td>18.6</td>\n",
       "      <td>67.0</td>\n",
       "      <td>7.4</td>\n",
       "      <td>21.9</td>\n",
       "    </tr>\n",
       "    <tr>\n",
       "      <th>91</th>\n",
       "      <td>31</td>\n",
       "      <td>8</td>\n",
       "      <td>2012</td>\n",
       "      <td>80</td>\n",
       "      <td>21.0</td>\n",
       "      <td>16.8</td>\n",
       "      <td>52.5</td>\n",
       "      <td>8.7</td>\n",
       "      <td>8.7</td>\n",
       "      <td>0.6</td>\n",
       "      <td>8.3</td>\n",
       "    </tr>\n",
       "    <tr>\n",
       "      <th>163</th>\n",
       "      <td>12</td>\n",
       "      <td>7</td>\n",
       "      <td>2012</td>\n",
       "      <td>44</td>\n",
       "      <td>13.0</td>\n",
       "      <td>0.0</td>\n",
       "      <td>90.1</td>\n",
       "      <td>12.6</td>\n",
       "      <td>19.4</td>\n",
       "      <td>8.3</td>\n",
       "      <td>12.5</td>\n",
       "    </tr>\n",
       "    <tr>\n",
       "      <th>148</th>\n",
       "      <td>27</td>\n",
       "      <td>6</td>\n",
       "      <td>2012</td>\n",
       "      <td>55</td>\n",
       "      <td>15.0</td>\n",
       "      <td>0.0</td>\n",
       "      <td>89.1</td>\n",
       "      <td>20.9</td>\n",
       "      <td>43.3</td>\n",
       "      <td>8.0</td>\n",
       "      <td>20.8</td>\n",
       "    </tr>\n",
       "  </tbody>\n",
       "</table>\n",
       "</div>"
      ],
      "text/plain": [
       "     day  month  year   RH    Ws  Rain   FFMC   DMC     DC   ISI   BUI\n",
       "162   11      7  2012   56  15.0    2.9  74.8   7.1    9.5   1.6   6.8\n",
       "60    31      7  2012   64  17.0    0.0  87.2  31.9  145.7   6.8  41.2\n",
       "61     1      8  2012   45  14.0    0.0  78.8   4.8   10.2   2.0   4.7\n",
       "63     3      8  2012   63  14.0    0.3  76.6   5.7   10.0   1.7   5.5\n",
       "69     9      8  2012   59  17.0    0.0  87.4  14.8   57.0   6.9  17.9\n",
       "83    23      8  2012   53  16.0    0.0  89.5  37.6  161.5  10.4  47.5\n",
       "55    26      7  2012   53  19.0    0.0  89.2  17.1   98.6  10.0  23.9\n",
       "211   29      8  2012   53  17.0    0.5  80.2  20.7  149.2   2.7  30.6\n",
       "46    17      7  2012   70  14.0    0.0  82.8   9.4   34.1   3.2  11.1\n",
       "35     6      7  2012   63  14.0    0.0  87.0  10.9   37.0   5.6  12.5\n",
       "181   30      7  2012   56  16.0    0.0  88.9  23.8   57.1   8.2  23.8\n",
       "102   11      9  2012   77  21.0    1.8  58.5   1.9    8.4   1.1   2.4\n",
       "195   13      8  2012   34  16.0    0.2  88.3  16.9   45.1   7.5  17.5\n",
       "219    6      9  2012   71  14.0    6.5  64.5   3.3    9.1   1.0   3.5\n",
       "159    8      7  2012   47  18.0    6.0  80.8   9.8    9.7   3.1   9.4\n",
       "146   25      6  2012   70  16.0    0.0  86.0  12.8   25.6   5.4  12.7\n",
       "127    6      6  2012   54  11.0    0.1  83.7   8.4   26.3   3.1   9.3\n",
       "121   30      9  2012   78  14.0    1.4  45.0   1.9    7.5   0.2   2.4\n",
       "186    4      8  2012   35  15.0    0.0  93.8  23.0   42.7  15.7  22.9\n",
       "171   20      7  2012   50  16.0    0.0  89.9  32.7   71.0   9.5  32.6\n",
       "10    11      6  2012   65  14.0    0.0  84.5  12.5   54.3   4.0  15.8\n",
       "213   31      8  2012   59  19.0    0.0  89.1  27.8  168.2   9.8  39.3\n",
       "26    27      6  2012   53  18.0    0.0  89.0  21.6   80.3   9.2  25.8\n",
       "147   26      6  2012   62  16.0    0.0  87.8  16.5   34.5   7.0  16.4\n",
       "185    3      8  2012   33  17.0    0.0  93.7  17.1   32.1  17.2  16.9\n",
       "136   15      6  2012   90  15.0    0.0  66.8   7.2   14.7   1.2   7.1\n",
       "76    16      8  2012   61  18.0    0.3  80.2  11.7   90.4   2.8  17.6\n",
       "119   28      9  2012   47  14.0    0.7  77.5   7.1    8.8   1.8   6.8\n",
       "120   29      9  2012   80  16.0    1.8  47.4   2.9    7.7   0.3   3.0\n",
       "59    30      7  2012   79  15.0    0.0  85.4  28.5  136.0   4.7  37.4\n",
       "116   25      9  2012   81  21.0    5.8  48.6   3.0    7.7   0.4   3.0\n",
       "214    1      9  2012   86  16.0    0.0  37.9   0.9    8.2   0.1   1.4\n",
       "6      7      6  2012   54  13.0    0.0  88.2   9.9   30.5   6.4  10.9\n",
       "161   10      7  2012   51  16.0    3.8  77.5   8.0    9.5   2.0   7.7\n",
       "24    25      6  2012   64  15.0    0.0  86.7  14.2   63.8   5.7  18.3\n",
       "215    2      9  2012   67  19.0    0.0  75.4   2.9   16.3   2.0   4.0\n",
       "19    20      6  2012   80  16.0    0.4  59.8   3.4   27.1   0.9   5.1\n",
       "220    7      9  2012   62  15.0    0.0  83.3   5.8   17.7   3.8   6.4\n",
       "106   15      9  2012   82  15.0    0.4  44.9   0.9    7.3   0.2   1.4\n",
       "56    27      7  2012   48  13.0    0.0  90.3  22.2  108.5   8.7  29.4\n",
       "80    20      8  2012   68  19.0    0.0  88.3  25.9  130.6   8.8  34.7\n",
       "182   31      7  2012   55  15.0    0.0  89.3  28.3   67.2   8.3  28.3\n",
       "132   11      6  2012   42  21.0    0.0  90.6  18.2   30.5  13.4  18.0\n",
       "216    3      9  2012   75  16.0    0.0  82.2   4.4   24.3   3.3   6.0\n",
       "198   16      8  2012   41  10.0    0.1  92.0  22.6   65.1   9.5  24.2\n",
       "70    10      8  2012   55  14.0    0.0  88.9  18.6   67.0   7.4  21.9\n",
       "91    31      8  2012   80  21.0   16.8  52.5   8.7    8.7   0.6   8.3\n",
       "163   12      7  2012   44  13.0    0.0  90.1  12.6   19.4   8.3  12.5\n",
       "148   27      6  2012   55  15.0    0.0  89.1  20.9   43.3   8.0  20.8"
      ]
     },
     "execution_count": 38,
     "metadata": {},
     "output_type": "execute_result"
    }
   ],
   "source": [
    "x_test"
   ]
  },
  {
   "cell_type": "code",
   "execution_count": 39,
   "id": "0c74dd8d",
   "metadata": {},
   "outputs": [
    {
     "data": {
      "text/plain": [
       "103    29\n",
       "20     30\n",
       "47     31\n",
       "205    36\n",
       "5      31\n",
       "       ..\n",
       "64     34\n",
       "15     29\n",
       "228    32\n",
       "125    30\n",
       "9      28\n",
       "Name: Temperature, Length: 195, dtype: int32"
      ]
     },
     "execution_count": 39,
     "metadata": {},
     "output_type": "execute_result"
    }
   ],
   "source": [
    "y_train"
   ]
  },
  {
   "cell_type": "code",
   "execution_count": 40,
   "id": "f30e7240",
   "metadata": {},
   "outputs": [
    {
     "data": {
      "text/plain": [
       "162    34\n",
       "60     35\n",
       "61     36\n",
       "63     35\n",
       "69     35\n",
       "83     36\n",
       "55     36\n",
       "211    35\n",
       "46     29\n",
       "35     32\n",
       "181    36\n",
       "102    30\n",
       "195    35\n",
       "219    34\n",
       "159    35\n",
       "146    34\n",
       "127    35\n",
       "121    25\n",
       "186    38\n",
       "171    36\n",
       "10     31\n",
       "213    30\n",
       "26     34\n",
       "147    36\n",
       "185    39\n",
       "136    28\n",
       "76     36\n",
       "119    32\n",
       "120    26\n",
       "59     31\n",
       "116    26\n",
       "214    29\n",
       "6      33\n",
       "161    34\n",
       "24     31\n",
       "215    28\n",
       "19     30\n",
       "220    31\n",
       "106    24\n",
       "56     36\n",
       "80     35\n",
       "182    37\n",
       "132    31\n",
       "216    28\n",
       "198    40\n",
       "70     35\n",
       "91     28\n",
       "163    36\n",
       "148    36\n",
       "Name: Temperature, dtype: int32"
      ]
     },
     "execution_count": 40,
     "metadata": {},
     "output_type": "execute_result"
    }
   ],
   "source": [
    "y_test"
   ]
  },
  {
   "cell_type": "markdown",
   "id": "7e182ee1",
   "metadata": {},
   "source": [
    "# Standarize the Dataset"
   ]
  },
  {
   "cell_type": "code",
   "execution_count": 41,
   "id": "a1dfa83d",
   "metadata": {},
   "outputs": [],
   "source": [
    "from sklearn.preprocessing import StandardScaler"
   ]
  },
  {
   "cell_type": "code",
   "execution_count": 42,
   "id": "5af38d70",
   "metadata": {},
   "outputs": [],
   "source": [
    "scaler = StandardScaler()"
   ]
  },
  {
   "cell_type": "code",
   "execution_count": 43,
   "id": "39346e4e",
   "metadata": {},
   "outputs": [
    {
     "data": {
      "text/plain": [
       "StandardScaler()"
      ]
     },
     "execution_count": 43,
     "metadata": {},
     "output_type": "execute_result"
    }
   ],
   "source": [
    "scaler"
   ]
  },
  {
   "cell_type": "code",
   "execution_count": 44,
   "id": "eee14f2d",
   "metadata": {},
   "outputs": [],
   "source": [
    "x_train = scaler.fit_transform(x_train)"
   ]
  },
  {
   "cell_type": "code",
   "execution_count": 45,
   "id": "1e88171b",
   "metadata": {},
   "outputs": [],
   "source": [
    "x_test = scaler.transform(x_test)"
   ]
  },
  {
   "cell_type": "code",
   "execution_count": 46,
   "id": "09633c14",
   "metadata": {},
   "outputs": [
    {
     "data": {
      "text/plain": [
       "array([[-0.41179325,  1.34118937,  0.        , ..., -0.68301758,\n",
       "        -0.8248578 , -0.891045  ],\n",
       "       [ 0.65256192, -1.33661193,  0.        , ..., -0.37058334,\n",
       "        -0.48845777, -0.57180699],\n",
       "       [ 0.29777686, -0.4440115 ,  0.        , ..., -0.13105041,\n",
       "        -0.0078863 , -0.17785371],\n",
       "       ...,\n",
       "       [-0.0570082 ,  1.34118937,  0.        , ...,  0.01683513,\n",
       "         0.54477089,  0.06666902],\n",
       "       [-1.35788674, -1.33661193,  0.        , ..., -0.70801232,\n",
       "        -0.58457206, -0.76199134],\n",
       "       [-0.64831662, -1.33661193,  0.        , ..., -0.06439777,\n",
       "        -0.80082923, -0.28653048]])"
      ]
     },
     "execution_count": 46,
     "metadata": {},
     "output_type": "execute_result"
    }
   ],
   "source": [
    "x_train"
   ]
  },
  {
   "cell_type": "code",
   "execution_count": 47,
   "id": "5c5ce07a",
   "metadata": {},
   "outputs": [
    {
     "data": {
      "text/plain": [
       "array([[-5.30054938e-01, -4.44011497e-01,  0.00000000e+00,\n",
       "        -4.17096141e-01, -1.40340748e-01,  1.26543942e+00,\n",
       "        -1.98104044e-01, -6.00208730e-01, -8.30903129e-01,\n",
       "        -7.28743505e-01, -6.80483760e-01],\n",
       "       [ 1.83517877e+00, -4.44011497e-01,  0.00000000e+00,\n",
       "         1.14931643e-01,  5.52480668e-01, -3.99922442e-01,\n",
       "         6.74896829e-01,  1.31317915e+00,  2.00599985e+00,\n",
       "         5.20742315e-01,  1.65606674e+00],\n",
       "       [-1.71267179e+00,  4.48588935e-01,  0.00000000e+00,\n",
       "        -1.14863435e+00, -4.86751457e-01, -3.99922442e-01,\n",
       "         8.35091406e-02, -7.77660025e-01, -8.16322864e-01,\n",
       "        -6.32629211e-01, -8.23122017e-01],\n",
       "       [-1.47614842e+00,  4.48588935e-01,  0.00000000e+00,\n",
       "         4.84281701e-02, -4.86751457e-01, -2.27643628e-01,\n",
       "        -7.13781111e-02, -7.08222562e-01, -8.20488654e-01,\n",
       "        -7.04714932e-01, -7.68783633e-01],\n",
       "       [-7.66578309e-01,  4.48588935e-01,  0.00000000e+00,\n",
       "        -2.17585722e-01,  5.52480668e-01, -3.99922442e-01,\n",
       "         6.88977488e-01, -6.13265347e-03,  1.58471992e-01,\n",
       "         5.44770889e-01,  7.34613150e-02],\n",
       "       [ 8.89085286e-01,  4.48588935e-01,  0.00000000e+00,\n",
       "        -6.16606561e-01,  2.06069960e-01, -3.99922442e-01,\n",
       "         8.36824410e-01,  1.75294975e+00,  2.33509726e+00,\n",
       "         1.38577096e+00,  2.08398151e+00],\n",
       "       [ 1.24387034e+00, -4.44011497e-01,  0.00000000e+00,\n",
       "        -6.16606561e-01,  1.24530208e+00, -3.99922442e-01,\n",
       "         8.15703422e-01,  1.71318642e-01,  1.02495631e+00,\n",
       "         1.28965667e+00,  4.80999193e-01],\n",
       "       [ 1.59865540e+00,  4.48588935e-01,  0.00000000e+00,\n",
       "        -6.16606561e-01,  5.52480668e-01, -1.12791086e-01,\n",
       "         1.82073755e-01,  4.49068496e-01,  2.07890117e+00,\n",
       "        -4.64429197e-01,  9.36083157e-01],\n",
       "       [ 1.79515174e-01, -4.44011497e-01,  0.00000000e+00,\n",
       "         5.13952482e-01, -4.86751457e-01, -3.99922442e-01,\n",
       "         3.65122326e-01, -4.22757434e-01, -3.18510961e-01,\n",
       "        -3.44286330e-01, -3.88414947e-01],\n",
       "       [-1.12136337e+00, -4.44011497e-01,  0.00000000e+00,\n",
       "         4.84281701e-02, -4.86751457e-01, -3.99922442e-01,\n",
       "         6.60816170e-01, -3.07028329e-01, -2.58107006e-01,\n",
       "         2.32399434e-01, -2.93322775e-01],\n",
       "       [ 1.71691708e+00, -4.44011497e-01,  0.00000000e+00,\n",
       "        -4.17096141e-01,  2.06069960e-01, -3.99922442e-01,\n",
       "         7.94582433e-01,  6.88241981e-01,  1.60554887e-01,\n",
       "         8.57142344e-01,  4.74206895e-01],\n",
       "       [-5.30054938e-01,  1.34118937e+00,  0.00000000e+00,\n",
       "         9.79476793e-01,  1.93812350e+00,  6.33750438e-01,\n",
       "        -1.34567777e+00, -1.00140296e+00, -8.53814974e-01,\n",
       "        -8.48886372e-01, -9.79344871e-01],\n",
       "       [-2.93531568e-01,  4.48588935e-01,  0.00000000e+00,\n",
       "        -1.88017255e+00,  2.06069960e-01, -2.85069899e-01,\n",
       "         7.52340455e-01,  1.55888095e-01, -8.93925122e-02,\n",
       "         6.88942330e-01,  4.62921231e-02],\n",
       "       [-1.12136337e+00,  1.34118937e+00,  0.00000000e+00,\n",
       "         5.80455955e-01, -4.86751457e-01,  3.33278518e+00,\n",
       "        -9.23257996e-01, -8.93389131e-01, -8.39234709e-01,\n",
       "        -8.72914946e-01, -9.04629593e-01],\n",
       "       [-8.84839995e-01, -4.44011497e-01,  0.00000000e+00,\n",
       "        -1.01562740e+00,  8.98891376e-01,  3.04565382e+00,\n",
       "         2.24315733e-01, -3.91896339e-01, -8.26737339e-01,\n",
       "        -3.68314903e-01, -5.03884013e-01],\n",
       "       [ 1.12560866e+00, -1.33661193e+00,  0.00000000e+00,\n",
       "         5.13952482e-01,  2.06069960e-01, -3.99922442e-01,\n",
       "         5.90412874e-01, -1.60438128e-01, -4.95557035e-01,\n",
       "         1.84342287e-01, -2.79738180e-01],\n",
       "       [-1.12136337e+00, -1.33661193e+00,  0.00000000e+00,\n",
       "        -5.50103088e-01, -1.52598358e+00, -3.42496171e-01,\n",
       "         4.28485292e-01, -4.99910172e-01, -4.80976770e-01,\n",
       "        -3.68314903e-01, -5.10676311e-01],\n",
       "       [ 1.71691708e+00,  1.34118937e+00,  0.00000000e+00,\n",
       "         1.04598027e+00, -4.86751457e-01,  4.04045353e-01,\n",
       "        -2.29612227e+00, -1.00140296e+00, -8.72561029e-01,\n",
       "        -1.06514353e+00, -9.79344871e-01],\n",
       "       [-1.35788674e+00,  4.48588935e-01,  0.00000000e+00,\n",
       "        -1.81366908e+00, -1.40340748e-01, -3.99922442e-01,\n",
       "         1.13955858e+00,  6.26519792e-01, -1.39381992e-01,\n",
       "         2.65928535e+00,  4.13076214e-01],\n",
       "       [ 5.34300230e-01, -4.44011497e-01,  0.00000000e+00,\n",
       "        -8.16116980e-01,  2.06069960e-01, -3.99922442e-01,\n",
       "         8.64985729e-01,  1.37490134e+00,  4.50077290e-01,\n",
       "         1.16951380e+00,  1.07192912e+00],\n",
       "       [-5.30054938e-01, -1.33661193e+00,  0.00000000e+00,\n",
       "         1.81435116e-01, -4.86751457e-01, -3.99922442e-01,\n",
       "         4.84807929e-01, -1.83583949e-01,  1.02233827e-01,\n",
       "        -1.52057742e-01, -6.91769424e-02],\n",
       "       [ 1.83517877e+00,  4.48588935e-01,  0.00000000e+00,\n",
       "        -2.17585722e-01,  1.24530208e+00, -3.99922442e-01,\n",
       "         8.08663092e-01,  9.96852930e-01,  2.47465122e+00,\n",
       "         1.24159952e+00,  1.52701308e+00],\n",
       "       [ 1.36213203e+00, -1.33661193e+00,  0.00000000e+00,\n",
       "        -6.16606561e-01,  8.98891376e-01, -3.99922442e-01,\n",
       "         8.01622762e-01,  5.18505959e-01,  6.43786524e-01,\n",
       "         1.09742808e+00,  6.10052855e-01],\n",
       "       [ 1.24387034e+00, -1.33661193e+00,  0.00000000e+00,\n",
       "        -1.80753029e-02,  2.06069960e-01, -3.99922442e-01,\n",
       "         7.17138807e-01,  1.25027000e-01, -3.10179381e-01,\n",
       "         5.68799462e-01, -2.84231546e-02],\n",
       "       [-1.47614842e+00,  4.48588935e-01,  0.00000000e+00,\n",
       "        -1.94667602e+00,  5.52480668e-01, -3.99922442e-01,\n",
       "         1.13251825e+00,  1.71318642e-01, -3.60168861e-01,\n",
       "         3.01971396e+00,  5.53833527e-03],\n",
       "       [-5.70081970e-02, -1.33661193e+00,  0.00000000e+00,\n",
       "         1.84402194e+00, -1.40340748e-01, -3.99922442e-01,\n",
       "        -7.61330414e-01, -5.92493456e-01, -7.22592589e-01,\n",
       "        -8.24857799e-01, -6.60106866e-01],\n",
       "       [ 6.12534883e-02,  4.48588935e-01,  0.00000000e+00,\n",
       "        -8.45787760e-02,  8.98891376e-01, -2.27643628e-01,\n",
       "         1.82073755e-01, -2.45306139e-01,  8.54158918e-01,\n",
       "        -4.40400623e-01,  5.30844211e-02],\n",
       "       [ 1.48039371e+00,  1.34118937e+00,  0.00000000e+00,\n",
       "        -1.01562740e+00, -4.86751457e-01,  2.06145588e-03,\n",
       "        -8.01514450e-03, -6.00208730e-01, -8.45483394e-01,\n",
       "        -6.80686358e-01, -6.80483760e-01],\n",
       "       [ 1.59865540e+00,  1.34118937e+00,  0.00000000e+00,\n",
       "         1.17898721e+00,  2.06069960e-01,  6.33750438e-01,\n",
       "        -2.12715436e+00, -9.24250226e-01, -8.68395239e-01,\n",
       "        -1.04111496e+00, -9.38591083e-01],\n",
       "       [ 1.71691708e+00, -4.44011497e-01,  0.00000000e+00,\n",
       "         1.11248374e+00, -1.40340748e-01, -3.99922442e-01,\n",
       "         5.48170896e-01,  1.05085985e+00,  1.80395903e+00,\n",
       "         1.61422724e-02,  1.39795942e+00],\n",
       "       [ 1.12560866e+00,  1.34118937e+00,  0.00000000e+00,\n",
       "         1.24549069e+00,  1.93812350e+00,  2.93080128e+00,\n",
       "        -2.04267041e+00, -9.16534952e-01, -8.68395239e-01,\n",
       "        -1.01708639e+00, -9.38591083e-01],\n",
       "       [-1.71267179e+00,  1.34118937e+00,  0.00000000e+00,\n",
       "         1.57800805e+00,  2.06069960e-01, -3.99922442e-01,\n",
       "        -2.79598568e+00, -1.07855570e+00, -8.57980764e-01,\n",
       "        -1.08917211e+00, -1.04726785e+00],\n",
       "       [-1.00310168e+00, -1.33661193e+00,  0.00000000e+00,\n",
       "        -5.50103088e-01, -8.33162165e-01, -3.99922442e-01,\n",
       "         7.45300125e-01, -3.84181066e-01, -3.93495181e-01,\n",
       "         4.24628021e-01, -4.01999543e-01],\n",
       "       [-6.48316624e-01, -4.44011497e-01,  0.00000000e+00,\n",
       "        -7.49613507e-01,  2.06069960e-01,  1.78227586e+00,\n",
       "        -8.01514450e-03, -5.30771266e-01, -8.30903129e-01,\n",
       "        -6.32629211e-01, -6.19353078e-01],\n",
       "       [ 1.12560866e+00, -1.33661193e+00,  0.00000000e+00,\n",
       "         1.14931643e-01, -1.40340748e-01, -3.99922442e-01,\n",
       "         6.39695181e-01, -5.24242958e-02,  3.00108851e-01,\n",
       "         2.56428007e-01,  1.00630507e-01],\n",
       "       [-1.59441011e+00,  1.34118937e+00,  0.00000000e+00,\n",
       "         3.14442062e-01,  1.24530208e+00, -3.99922442e-01,\n",
       "        -1.55862067e-01, -9.24250226e-01, -6.89266269e-01,\n",
       "        -6.32629211e-01, -8.70668103e-01],\n",
       "       [ 5.34300230e-01, -1.33661193e+00,  0.00000000e+00,\n",
       "         1.17898721e+00,  2.06069960e-01, -1.70217357e-01,\n",
       "        -1.25415349e+00, -8.85673857e-01, -4.64313611e-01,\n",
       "        -8.96943519e-01, -7.95952825e-01],\n",
       "       [-1.00310168e+00,  1.34118937e+00,  0.00000000e+00,\n",
       "        -1.80753029e-02, -1.40340748e-01, -3.99922442e-01,\n",
       "         4.00323974e-01, -7.00507288e-01, -6.60105740e-01,\n",
       "        -2.00114889e-01, -7.07652952e-01],\n",
       "       [-5.70081970e-02,  1.34118937e+00,  0.00000000e+00,\n",
       "         1.31199416e+00, -1.40340748e-01, -1.70217357e-01,\n",
       "        -2.30316260e+00, -1.07855570e+00, -8.76726819e-01,\n",
       "        -1.06514353e+00, -1.04726785e+00],\n",
       "       [ 1.36213203e+00, -4.44011497e-01,  0.00000000e+00,\n",
       "        -9.49123926e-01, -8.33162165e-01, -3.99922442e-01,\n",
       "         8.93147047e-01,  5.64797602e-01,  1.23116291e+00,\n",
       "         9.77285211e-01,  8.54575582e-01],\n",
       "       [ 5.34300230e-01,  4.48588935e-01,  0.00000000e+00,\n",
       "         3.80945536e-01,  1.24530208e+00, -3.99922442e-01,\n",
       "         7.52340455e-01,  8.50262729e-01,  1.69148270e+00,\n",
       "         1.00131378e+00,  1.21456737e+00],\n",
       "       [ 1.83517877e+00, -4.44011497e-01,  0.00000000e+00,\n",
       "        -4.83599614e-01, -1.40340748e-01, -3.99922442e-01,\n",
       "         8.22743751e-01,  1.03542930e+00,  3.70927281e-01,\n",
       "         8.81170917e-01,  7.79860304e-01],\n",
       "       [-5.30054938e-01, -1.33661193e+00,  0.00000000e+00,\n",
       "        -1.34814476e+00,  1.93812350e+00, -3.99922442e-01,\n",
       "         9.14268036e-01,  2.56186653e-01, -3.93495181e-01,\n",
       "         2.10662816e+00,  8.02536130e-02],\n",
       "       [-1.47614842e+00,  1.34118937e+00,  0.00000000e+00,\n",
       "         8.46469847e-01,  2.06069960e-01, -3.99922442e-01,\n",
       "         3.22880348e-01, -8.08521120e-01, -5.22634670e-01,\n",
       "        -3.20257756e-01, -7.34822144e-01],\n",
       "       [ 6.12534883e-02,  4.48588935e-01,  0.00000000e+00,\n",
       "        -1.41464824e+00, -1.87239429e+00, -3.42496171e-01,\n",
       "         1.01283265e+00,  5.95658697e-01,  3.27186486e-01,\n",
       "         1.16951380e+00,  5.01376087e-01],\n",
       "       [-6.48316624e-01,  4.48588935e-01,  0.00000000e+00,\n",
       "        -4.83599614e-01, -4.86751457e-01, -3.99922442e-01,\n",
       "         7.94582433e-01,  2.87047748e-01,  3.66761491e-01,\n",
       "         6.64913756e-01,  3.45153234e-01],\n",
       "       [ 1.83517877e+00,  4.48588935e-01,  0.00000000e+00,\n",
       "         1.17898721e+00,  1.93812350e+00,  9.24769110e+00,\n",
       "        -1.76809755e+00, -4.76764350e-01, -8.47566289e-01,\n",
       "        -9.69029240e-01, -5.78599290e-01],\n",
       "       [-4.11793253e-01, -4.44011497e-01,  0.00000000e+00,\n",
       "        -1.21513782e+00, -8.33162165e-01, -3.99922442e-01,\n",
       "         8.79066388e-01, -1.75868675e-01, -6.24696525e-01,\n",
       "         8.81170917e-01, -2.93322775e-01],\n",
       "       [ 1.36213203e+00, -1.33661193e+00,  0.00000000e+00,\n",
       "        -4.83599614e-01, -1.40340748e-01, -3.99922442e-01,\n",
       "         8.08663092e-01,  4.64499043e-01, -1.26884622e-01,\n",
       "         8.09085197e-01,  2.70437956e-01]])"
      ]
     },
     "execution_count": 47,
     "metadata": {},
     "output_type": "execute_result"
    }
   ],
   "source": [
    "x_test"
   ]
  },
  {
   "cell_type": "markdown",
   "id": "2b3bc133",
   "metadata": {},
   "source": [
    "# Model Training"
   ]
  },
  {
   "cell_type": "markdown",
   "id": "40f7d97f",
   "metadata": {},
   "source": [
    "# 1.Linear Regression"
   ]
  },
  {
   "cell_type": "code",
   "execution_count": 48,
   "id": "1ed092c5",
   "metadata": {},
   "outputs": [],
   "source": [
    "from sklearn.linear_model import LinearRegression"
   ]
  },
  {
   "cell_type": "code",
   "execution_count": 49,
   "id": "5a18dddc",
   "metadata": {},
   "outputs": [],
   "source": [
    "regression = LinearRegression()"
   ]
  },
  {
   "cell_type": "code",
   "execution_count": 50,
   "id": "a451f101",
   "metadata": {},
   "outputs": [
    {
     "data": {
      "text/plain": [
       "LinearRegression()"
      ]
     },
     "execution_count": 50,
     "metadata": {},
     "output_type": "execute_result"
    }
   ],
   "source": [
    "regression"
   ]
  },
  {
   "cell_type": "code",
   "execution_count": 51,
   "id": "219880c0",
   "metadata": {},
   "outputs": [],
   "source": [
    "regression = regression.fit(x_train,y_train)"
   ]
  },
  {
   "cell_type": "code",
   "execution_count": 52,
   "id": "29d3cdb0",
   "metadata": {},
   "outputs": [
    {
     "data": {
      "text/plain": [
       "LinearRegression()"
      ]
     },
     "execution_count": 52,
     "metadata": {},
     "output_type": "execute_result"
    }
   ],
   "source": [
    "regression"
   ]
  },
  {
   "cell_type": "code",
   "execution_count": 53,
   "id": "7b411649",
   "metadata": {},
   "outputs": [
    {
     "name": "stdout",
     "output_type": "stream",
     "text": [
      "[-4.05802237e-01 -4.62242790e-01 -2.22044605e-16 -1.02988765e+00\n",
      " -6.93560225e-01 -1.75722847e-01  1.02251218e+00  6.74606505e-01\n",
      "  1.05187983e+00  4.26836828e-01 -1.01620866e+00]\n"
     ]
    }
   ],
   "source": [
    "print(regression.coef_)"
   ]
  },
  {
   "cell_type": "code",
   "execution_count": 54,
   "id": "32ad0f94",
   "metadata": {},
   "outputs": [
    {
     "name": "stdout",
     "output_type": "stream",
     "text": [
      "31.98974358974359\n"
     ]
    }
   ],
   "source": [
    "print(regression.intercept_)"
   ]
  },
  {
   "cell_type": "code",
   "execution_count": 55,
   "id": "cc329d4d",
   "metadata": {},
   "outputs": [
    {
     "data": {
      "text/plain": [
       "array([31.61359266, 33.2443981 , 33.33675924, 31.77576328, 33.02957201,\n",
       "       34.95217703, 33.62128597, 32.93170556, 32.00155909, 33.60237335,\n",
       "       33.1847856 , 26.80381226, 34.77247393, 29.09617822, 31.89161295,\n",
       "       31.88601031, 34.70442721, 26.46178994, 36.52546877, 34.44131782,\n",
       "       33.52849662, 33.54892282, 33.8318266 , 32.81181073, 36.25139445,\n",
       "       29.27966821, 31.9384393 , 31.25077697, 26.0499641 , 32.27338099,\n",
       "       24.67035559, 26.47729823, 34.90807181, 31.89307716, 33.14165201,\n",
       "       30.00639684, 29.12126232, 31.83919929, 26.7737382 , 35.40586265,\n",
       "       32.69506907, 33.62948777, 34.44858589, 30.86939898, 36.3445798 ,\n",
       "       34.27636063, 24.00749934, 35.05897201, 33.79777066])"
      ]
     },
     "execution_count": 55,
     "metadata": {},
     "output_type": "execute_result"
    }
   ],
   "source": [
    "reg_pred = regression.predict(x_test)\n",
    "reg_pred"
   ]
  },
  {
   "cell_type": "markdown",
   "id": "ae17d16d",
   "metadata": {},
   "source": [
    "# Assumption of Linear Regression"
   ]
  },
  {
   "cell_type": "code",
   "execution_count": 56,
   "id": "c651b20f",
   "metadata": {},
   "outputs": [
    {
     "data": {
      "text/plain": [
       "Text(0, 0.5, 'reg_pred')"
      ]
     },
     "execution_count": 56,
     "metadata": {},
     "output_type": "execute_result"
    },
    {
     "data": {
      "image/png": "[encoded data removed]",
      "text/plain": [
       "<Figure size 432x288 with 1 Axes>"
      ]
     },
     "metadata": {
      "needs_background": "light"
     },
     "output_type": "display_data"
    }
   ],
   "source": [
    "plt.scatter(y_test,reg_pred)\n",
    "plt.xlabel(\"y_test\")\n",
    "plt.ylabel(\"reg_pred\")"
   ]
  },
  {
   "cell_type": "code",
   "execution_count": 57,
   "id": "ca038897",
   "metadata": {},
   "outputs": [
    {
     "data": {
      "text/plain": [
       "162    2.386407\n",
       "60     1.755602\n",
       "61     2.663241\n",
       "63     3.224237\n",
       "69     1.970428\n",
       "83     1.047823\n",
       "55     2.378714\n",
       "211    2.068294\n",
       "46    -3.001559\n",
       "35    -1.602373\n",
       "181    2.815214\n",
       "102    3.196188\n",
       "195    0.227526\n",
       "219    4.903822\n",
       "159    3.108387\n",
       "146    2.113990\n",
       "127    0.295573\n",
       "121   -1.461790\n",
       "186    1.474531\n",
       "171    1.558682\n",
       "10    -2.528497\n",
       "213   -3.548923\n",
       "26     0.168173\n",
       "147    3.188189\n",
       "185    2.748606\n",
       "136   -1.279668\n",
       "76     4.061561\n",
       "119    0.749223\n",
       "120   -0.049964\n",
       "59    -1.273381\n",
       "116    1.329644\n",
       "214    2.522702\n",
       "6     -1.908072\n",
       "161    2.106923\n",
       "24    -2.141652\n",
       "215   -2.006397\n",
       "19     0.878738\n",
       "220   -0.839199\n",
       "106   -2.773738\n",
       "56     0.594137\n",
       "80     2.304931\n",
       "182    3.370512\n",
       "132   -3.448586\n",
       "216   -2.869399\n",
       "198    3.655420\n",
       "70     0.723639\n",
       "91     3.992501\n",
       "163    0.941028\n",
       "148    2.202229\n",
       "Name: Temperature, dtype: float64"
      ]
     },
     "execution_count": 57,
     "metadata": {},
     "output_type": "execute_result"
    }
   ],
   "source": [
    "residual = y_test - reg_pred\n",
    "residual"
   ]
  },
  {
   "cell_type": "code",
   "execution_count": 58,
   "id": "1071af80",
   "metadata": {},
   "outputs": [
    {
     "data": {
      "text/plain": [
       "<seaborn.axisgrid.FacetGrid at 0x29d208bccd0>"
      ]
     },
     "execution_count": 58,
     "metadata": {},
     "output_type": "execute_result"
    },
    {
     "data": {
      "image/png": "[encoded data removed]",
      "text/plain": [
       "<Figure size 360x360 with 1 Axes>"
      ]
     },
     "metadata": {
      "needs_background": "light"
     },
     "output_type": "display_data"
    }
   ],
   "source": [
    "sns.displot(residual , kind=\"kde\")"
   ]
  },
  {
   "cell_type": "code",
   "execution_count": 59,
   "id": "b34ae970",
   "metadata": {},
   "outputs": [
    {
     "data": {
      "text/plain": [
       "<matplotlib.collections.PathCollection at 0x29d223a4220>"
      ]
     },
     "execution_count": 59,
     "metadata": {},
     "output_type": "execute_result"
    },
    {
     "data": {
      "image/png": "[encoded data removed]",
      "text/plain": [
       "<Figure size 432x288 with 1 Axes>"
      ]
     },
     "metadata": {
      "needs_background": "light"
     },
     "output_type": "display_data"
    }
   ],
   "source": [
    "plt.scatter(reg_pred, residual)"
   ]
  },
  {
   "cell_type": "code",
   "execution_count": 60,
   "id": "c666bbb0",
   "metadata": {},
   "outputs": [
    {
     "name": "stdout",
     "output_type": "stream",
     "text": [
      "5.7085928247813245\n",
      "2.1114288551413436\n",
      "2.3892661686763415\n"
     ]
    }
   ],
   "source": [
    "from sklearn.metrics import mean_squared_error\n",
    "from sklearn.metrics import mean_absolute_error\n",
    "print(mean_squared_error(y_test,reg_pred))\n",
    "print(mean_absolute_error(y_test,reg_pred))\n",
    "print(np.sqrt(mean_squared_error(y_test , reg_pred)))"
   ]
  },
  {
   "cell_type": "markdown",
   "id": "3af0bfdf",
   "metadata": {},
   "source": [
    "# R2 Square and Adjusted R2"
   ]
  },
  {
   "cell_type": "code",
   "execution_count": 61,
   "id": "4b5eb16c",
   "metadata": {},
   "outputs": [
    {
     "name": "stdout",
     "output_type": "stream",
     "text": [
      "0.5889415975197949\n"
     ]
    }
   ],
   "source": [
    "from sklearn.metrics import r2_score\n",
    "score = r2_score(y_test,reg_pred)\n",
    "print(score)"
   ]
  },
  {
   "cell_type": "code",
   "execution_count": 62,
   "id": "f0d47b24",
   "metadata": {},
   "outputs": [
    {
     "name": "stdout",
     "output_type": "stream",
     "text": [
      "0.5889415975197949 0.564233168955411\n"
     ]
    }
   ],
   "source": [
    "n= len(x_train)\n",
    "p = len(X.columns)\n",
    "adj_R2 = 1- ((1-score) * (n-1)/(n-p-1)) #Adj R2 = 1-(1-R2)*(n-1)/(n-p-1)\n",
    "print(score, adj_R2)"
   ]
  },
  {
   "cell_type": "markdown",
   "id": "cd7d6f29",
   "metadata": {},
   "source": [
    "# 2. Ridge Regression"
   ]
  },
  {
   "cell_type": "code",
   "execution_count": 63,
   "id": "eeadbfce",
   "metadata": {},
   "outputs": [],
   "source": [
    "from sklearn.linear_model import Ridge"
   ]
  },
  {
   "cell_type": "code",
   "execution_count": 64,
   "id": "ea686604",
   "metadata": {},
   "outputs": [],
   "source": [
    "ridge = Ridge()"
   ]
  },
  {
   "cell_type": "code",
   "execution_count": 65,
   "id": "d9b2bd04",
   "metadata": {},
   "outputs": [
    {
     "data": {
      "text/plain": [
       "Ridge()"
      ]
     },
     "execution_count": 65,
     "metadata": {},
     "output_type": "execute_result"
    }
   ],
   "source": [
    "ridge"
   ]
  },
  {
   "cell_type": "code",
   "execution_count": 66,
   "id": "1949465c",
   "metadata": {},
   "outputs": [],
   "source": [
    "ridge = ridge.fit(x_train,y_train)"
   ]
  },
  {
   "cell_type": "code",
   "execution_count": 67,
   "id": "1601908b",
   "metadata": {},
   "outputs": [
    {
     "name": "stdout",
     "output_type": "stream",
     "text": [
      "[-0.40132387 -0.45367568  0.         -1.03372403 -0.69119473 -0.18305456\n",
      "  1.00460807  0.27629281  0.81744571  0.42132112 -0.39390316]\n"
     ]
    }
   ],
   "source": [
    "print(ridge.coef_)"
   ]
  },
  {
   "cell_type": "code",
   "execution_count": 68,
   "id": "3e273919",
   "metadata": {},
   "outputs": [
    {
     "name": "stdout",
     "output_type": "stream",
     "text": [
      "31.98974358974359\n"
     ]
    }
   ],
   "source": [
    "print(ridge.intercept_)"
   ]
  },
  {
   "cell_type": "code",
   "execution_count": 69,
   "id": "a7a9aa27",
   "metadata": {},
   "outputs": [
    {
     "data": {
      "text/plain": [
       "array([31.61736633, 33.27490262, 33.33000713, 31.77451943, 33.03072238,\n",
       "       34.99438362, 33.60038333, 32.86280342, 31.99507707, 33.58229562,\n",
       "       33.15806218, 26.82746863, 34.75519521, 29.08581645, 31.90189788,\n",
       "       31.87545813, 34.67740783, 26.51380645, 36.53790229, 34.43843162,\n",
       "       33.51402295, 33.51943626, 33.83568006, 32.79867097, 36.24304527,\n",
       "       29.27627887, 31.87634533, 31.28933735, 26.09139142, 32.2941712 ,\n",
       "       24.6919469 , 26.51357422, 34.87462101, 31.90107757, 33.13768214,\n",
       "       30.00960562, 29.10311953, 31.83619959, 26.81138445, 35.40959382,\n",
       "       32.70734788, 33.6046948 , 34.45960953, 30.85772068, 36.32566815,\n",
       "       34.27751687, 24.01735705, 35.07231248, 33.79095902])"
      ]
     },
     "execution_count": 69,
     "metadata": {},
     "output_type": "execute_result"
    }
   ],
   "source": [
    "reg_pred1 = ridge.predict(x_test)\n",
    "reg_pred1"
   ]
  },
  {
   "cell_type": "markdown",
   "id": "97b0b478",
   "metadata": {},
   "source": [
    "# Assumption"
   ]
  },
  {
   "cell_type": "code",
   "execution_count": 70,
   "id": "f69c0d64",
   "metadata": {},
   "outputs": [
    {
     "data": {
      "text/plain": [
       "Text(0, 0.5, 'reg_pred1')"
      ]
     },
     "execution_count": 70,
     "metadata": {},
     "output_type": "execute_result"
    },
    {
     "data": {
      "image/png": "[encoded data removed]",
      "text/plain": [
       "<Figure size 432x288 with 1 Axes>"
      ]
     },
     "metadata": {
      "needs_background": "light"
     },
     "output_type": "display_data"
    }
   ],
   "source": [
    "plt.scatter(y_test,reg_pred1)\n",
    "plt.xlabel(\"y_test\")\n",
    "plt.ylabel(\"reg_pred1\")"
   ]
  },
  {
   "cell_type": "code",
   "execution_count": 71,
   "id": "dc91111f",
   "metadata": {},
   "outputs": [
    {
     "data": {
      "text/plain": [
       "162    2.382634\n",
       "60     1.725097\n",
       "61     2.669993\n",
       "63     3.225481\n",
       "69     1.969278\n",
       "83     1.005616\n",
       "55     2.399617\n",
       "211    2.137197\n",
       "46    -2.995077\n",
       "35    -1.582296\n",
       "181    2.841938\n",
       "102    3.172531\n",
       "195    0.244805\n",
       "219    4.914184\n",
       "159    3.098102\n",
       "146    2.124542\n",
       "127    0.322592\n",
       "121   -1.513806\n",
       "186    1.462098\n",
       "171    1.561568\n",
       "10    -2.514023\n",
       "213   -3.519436\n",
       "26     0.164320\n",
       "147    3.201329\n",
       "185    2.756955\n",
       "136   -1.276279\n",
       "76     4.123655\n",
       "119    0.710663\n",
       "120   -0.091391\n",
       "59    -1.294171\n",
       "116    1.308053\n",
       "214    2.486426\n",
       "6     -1.874621\n",
       "161    2.098922\n",
       "24    -2.137682\n",
       "215   -2.009606\n",
       "19     0.896880\n",
       "220   -0.836200\n",
       "106   -2.811384\n",
       "56     0.590406\n",
       "80     2.292652\n",
       "182    3.395305\n",
       "132   -3.459610\n",
       "216   -2.857721\n",
       "198    3.674332\n",
       "70     0.722483\n",
       "91     3.982643\n",
       "163    0.927688\n",
       "148    2.209041\n",
       "Name: Temperature, dtype: float64"
      ]
     },
     "execution_count": 71,
     "metadata": {},
     "output_type": "execute_result"
    }
   ],
   "source": [
    "ridge_residual = y_test-reg_pred1\n",
    "ridge_residual"
   ]
  },
  {
   "cell_type": "code",
   "execution_count": 72,
   "id": "adeee5d6",
   "metadata": {},
   "outputs": [
    {
     "data": {
      "text/plain": [
       "<seaborn.axisgrid.FacetGrid at 0x29d22418fa0>"
      ]
     },
     "execution_count": 72,
     "metadata": {},
     "output_type": "execute_result"
    },
    {
     "data": {
      "image/png": "[encoded data removed]",
      "text/plain": [
       "<Figure size 360x360 with 1 Axes>"
      ]
     },
     "metadata": {
      "needs_background": "light"
     },
     "output_type": "display_data"
    }
   ],
   "source": [
    "sns.displot(ridge_residual , kind = 'kde')"
   ]
  },
  {
   "cell_type": "code",
   "execution_count": 73,
   "id": "60bd108b",
   "metadata": {},
   "outputs": [
    {
     "name": "stdout",
     "output_type": "stream",
     "text": [
      "5.72317717339442\n",
      "2.1137209612518695\n",
      "2.392316277876824\n"
     ]
    }
   ],
   "source": [
    "from sklearn.metrics import mean_squared_error\n",
    "from sklearn.metrics import mean_absolute_error\n",
    "print(mean_squared_error(y_test,reg_pred1))\n",
    "print(mean_absolute_error(y_test,reg_pred1))\n",
    "print(np.sqrt(mean_squared_error(y_test , reg_pred1)))"
   ]
  },
  {
   "cell_type": "code",
   "execution_count": 74,
   "id": "e5ce6325",
   "metadata": {},
   "outputs": [
    {
     "name": "stdout",
     "output_type": "stream",
     "text": [
      "0.5878914229450575\n"
     ]
    }
   ],
   "source": [
    "from sklearn.metrics import r2_score\n",
    "score = r2_score(y_test,reg_pred1)\n",
    "print(score)"
   ]
  },
  {
   "cell_type": "code",
   "execution_count": 75,
   "id": "ae0586b4",
   "metadata": {},
   "outputs": [
    {
     "name": "stdout",
     "output_type": "stream",
     "text": [
      "0.5878914229450575 0.5631198691330117\n"
     ]
    }
   ],
   "source": [
    "n= len(x_train)\n",
    "p = len(X.columns)\n",
    "adj_R2 = 1- ((1-score) * (n-1)/(n-p-1)) #Adj R2 = 1-(1-R2)*(n-1)/(n-p-1)\n",
    "print(score, adj_R2)"
   ]
  },
  {
   "cell_type": "code",
   "execution_count": null,
   "id": "f00794be",
   "metadata": {},
   "outputs": [],
   "source": []
  },
  {
   "cell_type": "markdown",
   "id": "738205f6",
   "metadata": {},
   "source": [
    "# 3. Lasso Regression"
   ]
  },
  {
   "cell_type": "code",
   "execution_count": 76,
   "id": "27061075",
   "metadata": {},
   "outputs": [],
   "source": [
    "from sklearn.linear_model import Lasso"
   ]
  },
  {
   "cell_type": "code",
   "execution_count": 77,
   "id": "b23f32d3",
   "metadata": {},
   "outputs": [],
   "source": [
    "lasso_reg = Lasso()"
   ]
  },
  {
   "cell_type": "code",
   "execution_count": 78,
   "id": "48fad4ed",
   "metadata": {},
   "outputs": [
    {
     "data": {
      "text/plain": [
       "Lasso()"
      ]
     },
     "execution_count": 78,
     "metadata": {},
     "output_type": "execute_result"
    }
   ],
   "source": [
    "lasso_reg.fit(x_train, y_train)\n",
    "lasso_reg"
   ]
  },
  {
   "cell_type": "code",
   "execution_count": 79,
   "id": "cd618426",
   "metadata": {},
   "outputs": [
    {
     "name": "stdout",
     "output_type": "stream",
     "text": [
      "[ 0.         -0.          0.         -0.63616777 -0.         -0.\n",
      "  0.95573946  0.          0.          0.          0.        ]\n"
     ]
    }
   ],
   "source": [
    "print(lasso_reg.coef_)"
   ]
  },
  {
   "cell_type": "code",
   "execution_count": 80,
   "id": "c301b353",
   "metadata": {},
   "outputs": [
    {
     "name": "stdout",
     "output_type": "stream",
     "text": [
      "31.98974358974359\n"
     ]
    }
   ],
   "source": [
    "print(lasso_reg.intercept_)"
   ]
  },
  {
   "cell_type": "code",
   "execution_count": 81,
   "id": "2fbe2581",
   "metadata": {},
   "outputs": [
    {
     "data": {
      "text/plain": [
       "array([32.06575086, 32.56165331, 32.80028072, 31.89071627, 32.78664759,\n",
       "       33.18179492, 33.16160876, 32.55602388, 32.0117454 , 32.59050324,\n",
       "       33.0145005 , 30.08051467, 33.90489023, 30.73808212, 32.85024041,\n",
       "       32.22706446, 32.74922175, 29.12983   , 34.23266251, 33.3356319 ,\n",
       "       32.33767048, 32.90103584, 33.14815132, 32.68664037, 34.31054852,\n",
       "       30.08900274, 32.21756495, 32.62819262, 29.20670456, 31.80592584,\n",
       "       29.24514185, 28.31363189, 33.05201418, 32.45896316, 32.52800971,\n",
       "       31.64074216, 30.04106595, 32.38384793, 28.95387181, 33.44716152,\n",
       "       32.46643977, 33.08372275, 33.72119188, 31.75983624, 33.85770134,\n",
       "       33.05680786, 29.54986933, 33.60293354, 33.0702653 ])"
      ]
     },
     "execution_count": 81,
     "metadata": {},
     "output_type": "execute_result"
    }
   ],
   "source": [
    "## Prediction \n",
    "\n",
    "reg_pred2 = lasso_reg.predict(x_test)\n",
    "reg_pred2"
   ]
  },
  {
   "cell_type": "code",
   "execution_count": 82,
   "id": "0b5a10db",
   "metadata": {},
   "outputs": [
    {
     "data": {
      "text/plain": [
       "162    1.934249\n",
       "60     2.438347\n",
       "61     3.199719\n",
       "63     3.109284\n",
       "69     2.213352\n",
       "83     2.818205\n",
       "55     2.838391\n",
       "211    2.443976\n",
       "46    -3.011745\n",
       "35    -0.590503\n",
       "181    2.985500\n",
       "102   -0.080515\n",
       "195    1.095110\n",
       "219    3.261918\n",
       "159    2.149760\n",
       "146    1.772936\n",
       "127    2.250778\n",
       "121   -4.129830\n",
       "186    3.767337\n",
       "171    2.664368\n",
       "10    -1.337670\n",
       "213   -2.901036\n",
       "26     0.851849\n",
       "147    3.313360\n",
       "185    4.689451\n",
       "136   -2.089003\n",
       "76     3.782435\n",
       "119   -0.628193\n",
       "120   -3.206705\n",
       "59    -0.805926\n",
       "116   -3.245142\n",
       "214    0.686368\n",
       "6     -0.052014\n",
       "161    1.541037\n",
       "24    -1.528010\n",
       "215   -3.640742\n",
       "19    -0.041066\n",
       "220   -1.383848\n",
       "106   -4.953872\n",
       "56     2.552838\n",
       "80     2.533560\n",
       "182    3.916277\n",
       "132   -2.721192\n",
       "216   -3.759836\n",
       "198    6.142299\n",
       "70     1.943192\n",
       "91    -1.549869\n",
       "163    2.397066\n",
       "148    2.929735\n",
       "Name: Temperature, dtype: float64"
      ]
     },
     "execution_count": 82,
     "metadata": {},
     "output_type": "execute_result"
    }
   ],
   "source": [
    "## Finding the residuals\n",
    "\n",
    "residuals2 = y_test - reg_pred2\n",
    "residuals2"
   ]
  },
  {
   "cell_type": "code",
   "execution_count": 83,
   "id": "32ed9417",
   "metadata": {},
   "outputs": [
    {
     "data": {
      "text/plain": [
       "Text(0, 0.5, 'reg_pred2')"
      ]
     },
     "execution_count": 83,
     "metadata": {},
     "output_type": "execute_result"
    },
    {
     "data": {
      "image/png": "[encoded data removed]",
      "text/plain": [
       "<Figure size 432x288 with 1 Axes>"
      ]
     },
     "metadata": {
      "needs_background": "light"
     },
     "output_type": "display_data"
    }
   ],
   "source": [
    "plt.scatter(y_test,reg_pred2)\n",
    "plt.xlabel(\"y_test\")\n",
    "plt.ylabel(\"reg_pred2\")"
   ]
  },
  {
   "cell_type": "code",
   "execution_count": 84,
   "id": "b6d2abd4",
   "metadata": {},
   "outputs": [
    {
     "data": {
      "text/plain": [
       "<seaborn.axisgrid.FacetGrid at 0x29d20520e20>"
      ]
     },
     "execution_count": 84,
     "metadata": {},
     "output_type": "execute_result"
    },
    {
     "data": {
      "image/png": "[encoded data removed]",
      "text/plain": [
       "<Figure size 360x360 with 1 Axes>"
      ]
     },
     "metadata": {
      "needs_background": "light"
     },
     "output_type": "display_data"
    }
   ],
   "source": [
    "sns.displot(residuals2 , kind=\"kde\")"
   ]
  },
  {
   "cell_type": "code",
   "execution_count": 85,
   "id": "c1a0bbaf",
   "metadata": {},
   "outputs": [
    {
     "data": {
      "text/plain": [
       "<matplotlib.collections.PathCollection at 0x29d2259db50>"
      ]
     },
     "execution_count": 85,
     "metadata": {},
     "output_type": "execute_result"
    },
    {
     "data": {
      "image/png": "[encoded data removed]",
      "text/plain": [
       "<Figure size 432x288 with 1 Axes>"
      ]
     },
     "metadata": {
      "needs_background": "light"
     },
     "output_type": "display_data"
    }
   ],
   "source": [
    "plt.scatter(reg_pred2, residuals2)"
   ]
  },
  {
   "cell_type": "code",
   "execution_count": 86,
   "id": "9f69b0d2",
   "metadata": {},
   "outputs": [
    {
     "name": "stdout",
     "output_type": "stream",
     "text": [
      "7.657028728970652\n",
      "2.446518651639393\n",
      "2.767133666625205\n"
     ]
    }
   ],
   "source": [
    "from sklearn.metrics import mean_squared_error\n",
    "from sklearn.metrics import mean_absolute_error\n",
    "print(mean_squared_error(y_test,reg_pred2))\n",
    "print(mean_absolute_error(y_test,reg_pred2))\n",
    "print(np.sqrt(mean_squared_error(y_test , reg_pred2)))"
   ]
  },
  {
   "cell_type": "code",
   "execution_count": 87,
   "id": "bd5e2c02",
   "metadata": {},
   "outputs": [
    {
     "name": "stdout",
     "output_type": "stream",
     "text": [
      "0.44864065564243827\n"
     ]
    }
   ],
   "source": [
    "from sklearn.metrics import r2_score\n",
    "score = r2_score(y_test,reg_pred2)\n",
    "print(score)"
   ]
  },
  {
   "cell_type": "code",
   "execution_count": 89,
   "id": "e0f94dbb",
   "metadata": {},
   "outputs": [
    {
     "name": "stdout",
     "output_type": "stream",
     "text": [
      "0.44864065564243827 0.41549883712914215\n"
     ]
    }
   ],
   "source": [
    "n= len(x_train)\n",
    "p = len(X.columns)\n",
    "adj_R2 = 1- ((1-score) * (n-1)/(n-p-1)) #Adj R2 = 1-(1-R2)*(n-1)/(n-p-1)\n",
    "print(score, adj_R2)"
   ]
  },
  {
   "cell_type": "code",
   "execution_count": null,
   "id": "c9c171ad",
   "metadata": {},
   "outputs": [],
   "source": []
  },
  {
   "cell_type": "code",
   "execution_count": 90,
   "id": "9deb011f",
   "metadata": {},
   "outputs": [],
   "source": [
    "## 4.Elastic Net "
   ]
  },
  {
   "cell_type": "code",
   "execution_count": 91,
   "id": "26d2218e",
   "metadata": {},
   "outputs": [],
   "source": [
    "from sklearn.linear_model import ElasticNet"
   ]
  },
  {
   "cell_type": "code",
   "execution_count": 92,
   "id": "1aadda99",
   "metadata": {},
   "outputs": [],
   "source": [
    "elastic_reg = ElasticNet()"
   ]
  },
  {
   "cell_type": "code",
   "execution_count": 93,
   "id": "828ee1d1",
   "metadata": {},
   "outputs": [
    {
     "data": {
      "text/plain": [
       "ElasticNet()"
      ]
     },
     "execution_count": 93,
     "metadata": {},
     "output_type": "execute_result"
    }
   ],
   "source": [
    "elastic_reg"
   ]
  },
  {
   "cell_type": "code",
   "execution_count": 94,
   "id": "7d4593bd",
   "metadata": {},
   "outputs": [
    {
     "data": {
      "text/plain": [
       "ElasticNet()"
      ]
     },
     "execution_count": 94,
     "metadata": {},
     "output_type": "execute_result"
    }
   ],
   "source": [
    "elastic_reg.fit(x_train,y_train)"
   ]
  },
  {
   "cell_type": "code",
   "execution_count": 95,
   "id": "2f70de98",
   "metadata": {},
   "outputs": [
    {
     "name": "stdout",
     "output_type": "stream",
     "text": [
      "[ 0.         -0.          0.         -0.6103256  -0.19155252 -0.06416347\n",
      "  0.66621735  0.13558926  0.          0.36924284  0.08853578]\n"
     ]
    }
   ],
   "source": [
    "print(elastic_reg.coef_)"
   ]
  },
  {
   "cell_type": "code",
   "execution_count": 96,
   "id": "b674237d",
   "metadata": {},
   "outputs": [
    {
     "name": "stdout",
     "output_type": "stream",
     "text": [
      "31.98974358974359\n"
     ]
    }
   ],
   "source": [
    "print(elastic_reg.intercept_)"
   ]
  },
  {
   "cell_type": "code",
   "execution_count": 97,
   "id": "7ad8a6d3",
   "metadata": {},
   "outputs": [
    {
     "data": {
      "text/plain": [
       "array([31.64730299, 32.8060117 , 32.45340676, 31.59617501, 32.70820701,\n",
       "       33.84364257, 33.23864088, 32.36106162, 31.8193797 , 32.53754524,\n",
       "       33.211656  , 29.54758211, 33.89692343, 30.37623771, 32.15769904,\n",
       "       32.07714227, 32.67623846, 29.27316891, 35.01185244, 33.76345689,\n",
       "       32.23373256, 33.17721633, 33.28313765, 32.6891939 , 34.99091151,\n",
       "       29.96626964, 31.81391059, 32.30440579, 29.18005198, 32.00072544,\n",
       "       28.72650038, 28.50896766, 33.07638088, 31.92768625, 32.49480237,\n",
       "       31.04511571, 29.88433908, 32.08849637, 29.06013958, 33.86239957,\n",
       "       32.6381318 , 33.42037069, 33.89575888, 31.38147935, 34.46553314,\n",
       "       33.24815394, 28.65394583, 33.7778279 , 33.26185866])"
      ]
     },
     "execution_count": 97,
     "metadata": {},
     "output_type": "execute_result"
    }
   ],
   "source": [
    "## Prediction\n",
    "reg_pred3 = elastic_reg.predict(x_test)\n",
    "reg_pred3"
   ]
  },
  {
   "cell_type": "code",
   "execution_count": 98,
   "id": "b93a4857",
   "metadata": {},
   "outputs": [
    {
     "data": {
      "text/plain": [
       "162    2.352697\n",
       "60     2.193988\n",
       "61     3.546593\n",
       "63     3.403825\n",
       "69     2.291793\n",
       "83     2.156357\n",
       "55     2.761359\n",
       "211    2.638938\n",
       "46    -2.819380\n",
       "35    -0.537545\n",
       "181    2.788344\n",
       "102    0.452418\n",
       "195    1.103077\n",
       "219    3.623762\n",
       "159    2.842301\n",
       "146    1.922858\n",
       "127    2.323762\n",
       "121   -4.273169\n",
       "186    2.988148\n",
       "171    2.236543\n",
       "10    -1.233733\n",
       "213   -3.177216\n",
       "26     0.716862\n",
       "147    3.310806\n",
       "185    4.009088\n",
       "136   -1.966270\n",
       "76     4.186089\n",
       "119   -0.304406\n",
       "120   -3.180052\n",
       "59    -1.000725\n",
       "116   -2.726500\n",
       "214    0.491032\n",
       "6     -0.076381\n",
       "161    2.072314\n",
       "24    -1.494802\n",
       "215   -3.045116\n",
       "19     0.115661\n",
       "220   -1.088496\n",
       "106   -5.060140\n",
       "56     2.137600\n",
       "80     2.361868\n",
       "182    3.579629\n",
       "132   -2.895759\n",
       "216   -3.381479\n",
       "198    5.534467\n",
       "70     1.751846\n",
       "91    -0.653946\n",
       "163    2.222172\n",
       "148    2.738141\n",
       "Name: Temperature, dtype: float64"
      ]
     },
     "execution_count": 98,
     "metadata": {},
     "output_type": "execute_result"
    }
   ],
   "source": [
    "## Residuals\n",
    "\n",
    "residuals3 = y_test - reg_pred3\n",
    "residuals3"
   ]
  },
  {
   "cell_type": "markdown",
   "id": "71bac88b",
   "metadata": {},
   "source": [
    "# Assumption Elastic net"
   ]
  },
  {
   "cell_type": "code",
   "execution_count": 99,
   "id": "e5920992",
   "metadata": {},
   "outputs": [
    {
     "data": {
      "text/plain": [
       "Text(0, 0.5, 'reg_pred3')"
      ]
     },
     "execution_count": 99,
     "metadata": {},
     "output_type": "execute_result"
    },
    {
     "data": {
      "image/png": "[encoded data removed]",
      "text/plain": [
       "<Figure size 432x288 with 1 Axes>"
      ]
     },
     "metadata": {
      "needs_background": "light"
     },
     "output_type": "display_data"
    }
   ],
   "source": [
    "plt.scatter(y_test,reg_pred3)\n",
    "plt.xlabel(\"y_test\")\n",
    "plt.ylabel(\"reg_pred3\")"
   ]
  },
  {
   "cell_type": "code",
   "execution_count": 100,
   "id": "a4016ea2",
   "metadata": {},
   "outputs": [
    {
     "data": {
      "text/plain": [
       "<seaborn.axisgrid.FacetGrid at 0x29d22197160>"
      ]
     },
     "execution_count": 100,
     "metadata": {},
     "output_type": "execute_result"
    },
    {
     "data": {
      "image/png": "[encoded data removed]",
      "text/plain": [
       "<Figure size 360x360 with 1 Axes>"
      ]
     },
     "metadata": {
      "needs_background": "light"
     },
     "output_type": "display_data"
    }
   ],
   "source": [
    "sns.displot(residuals3 , kind=\"kde\")"
   ]
  },
  {
   "cell_type": "code",
   "execution_count": 101,
   "id": "111ae2e7",
   "metadata": {},
   "outputs": [
    {
     "data": {
      "text/plain": [
       "<matplotlib.collections.PathCollection at 0x29d23257910>"
      ]
     },
     "execution_count": 101,
     "metadata": {},
     "output_type": "execute_result"
    },
    {
     "data": {
      "image/png": "[encoded data removed]",
      "text/plain": [
       "<Figure size 432x288 with 1 Axes>"
      ]
     },
     "metadata": {
      "needs_background": "light"
     },
     "output_type": "display_data"
    }
   ],
   "source": [
    "plt.scatter(reg_pred3, residuals3)"
   ]
  },
  {
   "cell_type": "code",
   "execution_count": 102,
   "id": "b3bd7117",
   "metadata": {},
   "outputs": [
    {
     "name": "stdout",
     "output_type": "stream",
     "text": [
      "7.149550026993976\n",
      "2.362641952442328\n",
      "2.673864249918828\n"
     ]
    }
   ],
   "source": [
    "from sklearn.metrics import mean_squared_error\n",
    "from sklearn.metrics import mean_absolute_error\n",
    "print(mean_squared_error(y_test,reg_pred3))\n",
    "print(mean_absolute_error(y_test,reg_pred3))\n",
    "print(np.sqrt(mean_squared_error(y_test , reg_pred3)))"
   ]
  },
  {
   "cell_type": "code",
   "execution_count": 103,
   "id": "c79b193e",
   "metadata": {},
   "outputs": [
    {
     "name": "stdout",
     "output_type": "stream",
     "text": [
      "0.4851826531066299\n"
     ]
    }
   ],
   "source": [
    "from sklearn.metrics import r2_score\n",
    "score3 = r2_score(y_test,reg_pred3)\n",
    "print(score3)"
   ]
  },
  {
   "cell_type": "code",
   "execution_count": 104,
   "id": "50b76ace",
   "metadata": {},
   "outputs": [
    {
     "name": "stdout",
     "output_type": "stream",
     "text": [
      "0.4851826531066299 0.45423734810211036\n"
     ]
    }
   ],
   "source": [
    "n= len(x_train)\n",
    "p = len(X.columns)\n",
    "adj_R2 = 1- ((1-score3) * (n-1)/(n-p-1)) #Adj R2 = 1-(1-R2)*(n-1)/(n-p-1)\n",
    "print(score3, adj_R2)"
   ]
  },
  {
   "cell_type": "code",
   "execution_count": 105,
   "id": "55ea516f",
   "metadata": {},
   "outputs": [],
   "source": [
    "## Here it show very less accuracy , so that according to the accuracy of the Elastc net , it not a good model for the production"
   ]
  },
  {
   "cell_type": "code",
   "execution_count": null,
   "id": "941efe1e",
   "metadata": {},
   "outputs": [],
   "source": []
  },
  {
   "cell_type": "markdown",
   "id": "448918eb",
   "metadata": {},
   "source": [
    "# Conclussion"
   ]
  },
  {
   "cell_type": "markdown",
   "id": "43f451f6",
   "metadata": {},
   "source": [
    " 1.With the model accuracy and train and test Rain is one important feature that should be consider for the temperature.\n",
    " \n",
    " * Accuracy\n",
    " \n",
    "  Linear Regression > ridge > lasso > Elastc net"
   ]
  },
  {
   "cell_type": "code",
   "execution_count": null,
   "id": "0d265351",
   "metadata": {},
   "outputs": [],
   "source": []
  }
 ],
 "metadata": {
  "kernelspec": {
   "display_name": "Python 3 (ipykernel)",
   "language": "python",
   "name": "python3"
  },
  "language_info": {
   "codemirror_mode": {
    "name": "ipython",
    "version": 3
   },
   "file_extension": ".py",
   "mimetype": "text/x-python",
   "name": "python",
   "nbconvert_exporter": "python",
   "pygments_lexer": "ipython3",
   "version": "3.9.12"
  }
 },
 "nbformat": 4,
 "nbformat_minor": 5
}
